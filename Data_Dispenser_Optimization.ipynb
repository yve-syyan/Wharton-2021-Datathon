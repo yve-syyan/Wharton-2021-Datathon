{
 "cells": [
  {
   "cell_type": "markdown",
   "metadata": {
    "id": "NetzGSjxndrg"
   },
   "source": [
    "# Introduction\n",
    "\n",
    "In this project, we aim to prodive some data-driven insights for Tork, Essity. We build a model to classify if there are sufficient dispensors for every locations and also build a model to predict the number of dispensors needed for potential clients in the future.\n",
    "\n",
    "The business value of Tork EasyCube consists of main 4 dimensions: fewer cleaning rounds, fewer cleaning hours, higher customer satisfaction rate, and well replenished washrooms. It is of importance to further promote and develop the core business values. We aim to accomplish the mutual benefit by utilizing the data to analyze the **dispensors' optimal allocation** for our clients. By optimazing the dispensers' allocation, Tork's clients will be able to reduce the waste in labor and utilize the resources and refillment, which will create a healthy environment especially during Covid pandemic, and make a more efficient use of cleaning staff. Thus, Tork will be able to better achieve their core business value of Tork EasyTube, to sell more hygience products, and to increase the Tork EasyTube subscriptions rate.\n",
    "\n",
    "Throughout this process, we did data cleaning, exploratory data analysis, feature engineering, and modeling. "
   ]
  },
  {
   "cell_type": "markdown",
   "metadata": {
    "id": "VgFKJOzZZ7t4"
   },
   "source": [
    "# Table of Content\n",
    "\n",
    "# Import Data\n",
    "* [Import Data](#S1)\n",
    "* [Exploratory Data Analysis](#S2)\n",
    "  * [Highlight 1: Find 'location' Density via Node Path](#S2.1)\n",
    "  * [Highlight 2: Find Average Number of PeopleCounter per Location](#S2.2)\n",
    " * [Highlight 3: Find Hourly Visitor Count](#S2.3)\n",
    " * [Highlight 4: Outlier Detection: Abnormally High Traffic](#2.4)\n",
    " * [Highlight 5: Visitor Count Distribution by Day and Hours](#2.5)\n",
    " * [Highlight 6: Dispenser per Location](#2.6)\n",
    " * [Highlight 7: Dispenser per Visit Ratio](#2.7)\n",
    "    * [Outlier Detection: Find Locations with Insufficient Dispensers via Number of Visitors](#2.7.1)\n",
    " * [Highlight 8: Find Dispensers' Refillment Interval](#2.8)\n",
    "    * [Data Integrity: Duplicated Signals](#2.8.1)\n",
    "    * [Outlier Detection: Find Locations with Insufficient Dispenrs via Refillment Interval](#2.8.2)\n",
    " * [Highlight 9: Impact of Product Quality on Refillment Frequency](#2.9)\n",
    "* [Modeling](#S3)\n",
    "  * [Prepare Data](#S3.1)\n",
    "  * [Regression](#3.2)\n",
    "      * [Model Tuning](#3.2.1)\n",
    "      * [Results and Interpretations](#3.2.2)\n",
    "  * [Classification](#3.3)\n",
    "      * [Results and Interpretations](3.3.1)\n",
    "* [Limitation](#S6)\n",
    "* [Conclusions](#S4) \n",
    "* [Next Steps](#S5)"
   ]
  },
  {
   "cell_type": "code",
   "execution_count": null,
   "metadata": {
    "id": "SG9MpL7EmmOn"
   },
   "outputs": [],
   "source": [
    "!pip install pandasql\n",
    "!pip install category_encoders"
   ]
  },
  {
   "cell_type": "code",
   "execution_count": null,
   "metadata": {
    "id": "qZpy3sLlmwjs"
   },
   "outputs": [],
   "source": [
    "# Data Processing\n",
    "import pandas as pd\n",
    "import numpy as np\n",
    "import pandasql as ps\n",
    "from scipy import stats\n",
    "\n",
    "# Visualization Tools\n",
    "import matplotlib.pyplot as plt\n",
    "import seaborn as sns\n",
    "from sklearn.manifold import TSNE\n",
    "PALETTE = \"rainbow\"\n",
    "\n",
    "# Modeling\n",
    "from xgboost import XGBClassifier\n",
    "import xgboost as xgb\n",
    "from sklearn import metrics\n",
    "from category_encoders import TargetEncoder\n",
    "from sklearn.model_selection import train_test_split\n",
    "from sklearn.ensemble import RandomForestRegressor, RandomForestClassifier\n",
    "\n",
    "\n",
    "import warnings\n",
    "warnings.filterwarnings('ignore')"
   ]
  },
  {
   "cell_type": "markdown",
   "metadata": {
    "id": "f7xcr70Umyx_"
   },
   "source": [
    "# Import Data <a class=\"anchor\" id=\"S1\"></a>\n",
    "\n",
    "Data are stored in 11 .csv files. Downloaded directly from Google drive, stored as pandas dataframes."
   ]
  },
  {
   "cell_type": "code",
   "execution_count": null,
   "metadata": {
    "colab": {
     "base_uri": "https://localhost:8080/"
    },
    "id": "M7DX-tjkm50z",
    "outputId": "b1ce3f1d-36ac-472e-cd14-342deeb7fba2"
   },
   "outputs": [
    {
     "name": "stdout",
     "output_type": "stream",
     "text": [
      "Drive already mounted at /content/gdrive; to attempt to forcibly remount, call drive.mount(\"/content/gdrive\", force_remount=True).\n",
      "dispensers.csv\t   planlocations.csv\t scu_log.csv\t\t users.csv\n",
      "finishedtasks.csv  plans.csv\t\t sitedefaultrefills.csv  vru_log.csv\n",
      "locations.csv\t   refillassortment.csv  sites.csv\n"
     ]
    }
   ],
   "source": [
    "from google.colab import drive\n",
    "drive.mount('/content/gdrive')\n",
    "data_dir = r\"/content/gdrive/Shareddrives/datathon/Data/\"\n",
    "\n",
    "!ls $data_dir"
   ]
  },
  {
   "cell_type": "code",
   "execution_count": null,
   "metadata": {
    "colab": {
     "base_uri": "https://localhost:8080/"
    },
    "id": "svlMfdbvm_pP",
    "outputId": "e6e2062d-847b-425d-a73b-c5d4d90b8863"
   },
   "outputs": [
    {
     "name": "stderr",
     "output_type": "stream",
     "text": [
      "Skipping line 2363815: unexpected end of data\n"
     ]
    }
   ],
   "source": [
    "sites = pd.read_csv(data_dir+\"sites.csv\", error_bad_lines=False,sep = ';')\n",
    "users = pd.read_csv(data_dir+\"users.csv\", error_bad_lines=False,sep = ';')\n",
    "vru_log = pd.read_csv(data_dir+\"vru_log.csv\", error_bad_lines=False,sep = ';')\n",
    "sitedefaultrefills = pd.read_csv(data_dir+\"sitedefaultrefills.csv\", error_bad_lines=False,sep = ';')\n",
    "refillassotment = pd.read_csv(data_dir+\"refillassortment.csv\", error_bad_lines=False,sep = ';')\n",
    "plans = pd.read_csv(data_dir+\"plans.csv\", error_bad_lines=False,sep = ';')\n",
    "planlocations = pd.read_csv(data_dir+\"planlocations.csv\", error_bad_lines=False,sep = ';')\n",
    "locations = pd.read_csv(data_dir+\"locations.csv\", error_bad_lines=False,sep = ';')\n",
    "finishedtasks = pd.read_csv(data_dir+\"finishedtasks.csv\", error_bad_lines=False,sep = ';')\n",
    "dispensers = pd.read_csv(data_dir+\"dispensers.csv\", error_bad_lines=False,sep = ';')\n",
    "scu_log = pd.read_csv(data_dir+\"scu_log.csv\", engine='python', error_bad_lines=False,sep = ';')"
   ]
  },
  {
   "cell_type": "markdown",
   "metadata": {
    "id": "6lR_tkxenjt0"
   },
   "source": [
    "# Exploratory Data Analysis <a class=\"anchor\" id=\"S2\"></a>\n",
    "\n",
    "Our inital approach of the data would be exploratory data analysis. As we going through each table finding its specific features and parameters to understand the composition of the data. \\\\\n",
    "In this process we will finding empty rate in those tables and doing imputation and cleaning to pre-process data for model training. "
   ]
  },
  {
   "cell_type": "markdown",
   "metadata": {
    "id": "kTF8vPHJMoTY"
   },
   "source": [
    "We started our analysis with the *sites* table."
   ]
  },
  {
   "cell_type": "code",
   "execution_count": null,
   "metadata": {
    "colab": {
     "base_uri": "https://localhost:8080/"
    },
    "id": "r-8g9iS5HZMd",
    "outputId": "dbb43298-f62e-40b6-ffe6-92934aed5f76"
   },
   "outputs": [
    {
     "name": "stdout",
     "output_type": "stream",
     "text": [
      "<class 'pandas.core.frame.DataFrame'>\n",
      "RangeIndex: 15 entries, 0 to 14\n",
      "Data columns (total 16 columns):\n",
      " #   Column                          Non-Null Count  Dtype  \n",
      "---  ------                          --------------  -----  \n",
      " 0   CustomerId                      15 non-null     int64  \n",
      " 1   CustomerName                    15 non-null     object \n",
      " 2   SiteId                          15 non-null     int64  \n",
      " 3   SiteName                        15 non-null     object \n",
      " 4   CountryCode                     15 non-null     object \n",
      " 5   TimezoneId                      15 non-null     object \n",
      " 6   CreatedAt                       15 non-null     object \n",
      " 7   UpdatedAt                       15 non-null     object \n",
      " 8   SubscriptionName                15 non-null     object \n",
      " 9   SubscriptionRate                15 non-null     int64  \n",
      " 10  SubscriptionStart               15 non-null     object \n",
      " 11  SubscriptionEnd                 0 non-null      float64\n",
      " 12  SubscriptionIsActive            15 non-null     int64  \n",
      " 13  SubscriptionProductCode         15 non-null     object \n",
      " 14  SubscriptionProductName         15 non-null     object \n",
      " 15  SubscriptionProductDescription  15 non-null     object \n",
      "dtypes: float64(1), int64(4), object(11)\n",
      "memory usage: 2.0+ KB\n"
     ]
    }
   ],
   "source": [
    "sites.info()"
   ]
  },
  {
   "cell_type": "code",
   "execution_count": null,
   "metadata": {
    "colab": {
     "base_uri": "https://localhost:8080/"
    },
    "id": "ngn8wonzzCpk",
    "outputId": "a2a86d2a-a024-424c-9b02-efe77c663495"
   },
   "outputs": [
    {
     "data": {
      "text/plain": [
       "CustomerName\n",
       "Customer 1266    1\n",
       "Customer 1291    2\n",
       "Customer 1326    1\n",
       "Customer 133     1\n",
       "Customer 148     1\n",
       "Customer 163     1\n",
       "Customer 166     1\n",
       "Customer 179     1\n",
       "Customer 23      1\n",
       "Customer 28      1\n",
       "Customer 32      1\n",
       "Customer 77      1\n",
       "Customer 9       1\n",
       "Customer 91      1\n",
       "Name: SiteId, dtype: int64"
      ]
     },
     "execution_count": 109,
     "metadata": {
      "tags": []
     },
     "output_type": "execute_result"
    }
   ],
   "source": [
    "sites.groupby(by = \"CustomerName\").SiteId.count()"
   ]
  },
  {
   "cell_type": "markdown",
   "metadata": {
    "id": "ogbloQH5zE-P"
   },
   "source": [
    "*Sites* contain 15 sites, 14 distinct customers, with Customer1291 owning 2 sites."
   ]
  },
  {
   "cell_type": "code",
   "execution_count": null,
   "metadata": {
    "colab": {
     "base_uri": "https://localhost:8080/",
     "height": 562
    },
    "id": "jlZhkFLiHD6I",
    "outputId": "8b391d18-8375-449d-86c9-8399c1277a16"
   },
   "outputs": [
    {
     "name": "stdout",
     "output_type": "stream",
     "text": [
      "CustomerName\n",
      "Customer 166      199\n",
      "Customer 23       392\n",
      "Customer 28       439\n",
      "Customer 148      739\n",
      "Customer 77      3278\n",
      "Customer 32      4006\n",
      "Customer 1291    4071\n",
      "Customer 1266    5473\n",
      "Customer 1326    5782\n",
      "Customer 9       7492\n",
      "Customer 133     8035\n",
      "Customer 179     8530\n",
      "Customer 91      8916\n",
      "Customer 163     9948\n",
      "Name: SubscriptionRate, dtype: int64\n"
     ]
    },
    {
     "data": {
      "image/png": "[encoded data removed]",
      "text/plain": [
       "<Figure size 432x288 with 1 Axes>"
      ]
     },
     "metadata": {
      "needs_background": "light",
      "tags": []
     },
     "output_type": "display_data"
    }
   ],
   "source": [
    "print(sites.groupby(by = \"CustomerName\").SubscriptionRate.sum().sort_values())\n",
    "\n",
    "sns.boxplot(sites.groupby(by = \"CustomerName\").SubscriptionRate.sum())\n",
    "plt.title(\"Subscription Fee Distribution\")\n",
    "plt.show()"
   ]
  },
  {
   "cell_type": "markdown",
   "metadata": {
    "id": "lsnyuarxznnh"
   },
   "source": [
    "Subscription Rate ranges from 199 to 9948, with a gap between 739 and 3278. "
   ]
  },
  {
   "cell_type": "markdown",
   "metadata": {
    "id": "mS7w_mYn2nnm"
   },
   "source": [
    "Moving forward to the *locations* table, referencing the *sites* table by *SiteId*."
   ]
  },
  {
   "cell_type": "code",
   "execution_count": null,
   "metadata": {
    "colab": {
     "base_uri": "https://localhost:8080/"
    },
    "id": "DGHV9whn0HOJ",
    "outputId": "7df5587b-cedb-4ad2-d4ca-03ff3e88ea92"
   },
   "outputs": [
    {
     "data": {
      "text/plain": [
       "LocationId                    0.000000\n",
       "LocationName                  0.000000\n",
       "SiteId                        0.000000\n",
       "NodeLevel                     0.000000\n",
       "NodePath                      0.000000\n",
       "ParentNodePath                0.000000\n",
       "LowUrgencyThreshold           0.804972\n",
       "HighUrgencyThreshold          0.804972\n",
       "PeopleCounterId               0.635854\n",
       "PeopleCounterIsProvisioned    0.635854\n",
       "PeopleCounterCreatedAt        0.635854\n",
       "dtype: float64"
      ]
     },
     "execution_count": 111,
     "metadata": {
      "tags": []
     },
     "output_type": "execute_result"
    }
   ],
   "source": [
    "# Find percentages of missing values by feature\n",
    "locations.isna().sum()/len(locations.index)"
   ]
  },
  {
   "cell_type": "markdown",
   "metadata": {
    "id": "YrLRl6vF0TgN"
   },
   "source": [
    "Column **LowUrgencyThreshold**, **HighUrgencyThreshold**, **PeopleCoutnerId**, **PeopleCounterIsProvisioned**, **PeopleCounterCreatedAt** have more than 60% data missing.\n",
    "\n"
   ]
  },
  {
   "cell_type": "code",
   "execution_count": null,
   "metadata": {
    "colab": {
     "base_uri": "https://localhost:8080/"
    },
    "id": "poY2TuoK0R7W",
    "outputId": "62ad10f5-fe06-4e47-f5bb-713081eb918a"
   },
   "outputs": [
    {
     "name": "stdout",
     "output_type": "stream",
     "text": [
      "Total present people counter 1040\n",
      "Total supervised present people counter 1040\n"
     ]
    }
   ],
   "source": [
    "print(\"Total present people counter {}\".format(locations.PeopleCounterId.count()))\n",
    "print(\"Total supervised present people counter {}\".format(locations.PeopleCounterIsProvisioned.sum()))"
   ]
  },
  {
   "cell_type": "markdown",
   "metadata": {
    "id": "2pFd1etb07W5"
   },
   "source": [
    "**PeopleCounterId** and **PeopleCounterIsProvisioned** contain duplicated information, both suggesting if a counter is present."
   ]
  },
  {
   "cell_type": "markdown",
   "metadata": {
    "id": "TyNW-YCq1CNf"
   },
   "source": [
    "Join *sites* and *locations* using **SiteId**. "
   ]
  },
  {
   "cell_type": "code",
   "execution_count": null,
   "metadata": {
    "colab": {
     "base_uri": "https://localhost:8080/",
     "height": 257
    },
    "id": "3SCdc5TR06ta",
    "outputId": "b97ce263-86d9-438a-8994-753bdf817da6"
   },
   "outputs": [
    {
     "data": {
      "text/html": [
       "<div>\n",
       "<style scoped>\n",
       "    .dataframe tbody tr th:only-of-type {\n",
       "        vertical-align: middle;\n",
       "    }\n",
       "\n",
       "    .dataframe tbody tr th {\n",
       "        vertical-align: top;\n",
       "    }\n",
       "\n",
       "    .dataframe thead th {\n",
       "        text-align: right;\n",
       "    }\n",
       "</style>\n",
       "<table border=\"1\" class=\"dataframe\">\n",
       "  <thead>\n",
       "    <tr style=\"text-align: right;\">\n",
       "      <th></th>\n",
       "      <th>LocationId</th>\n",
       "      <th>LocationName</th>\n",
       "      <th>SiteId</th>\n",
       "      <th>NodeLevel</th>\n",
       "      <th>NodePath</th>\n",
       "      <th>ParentNodePath</th>\n",
       "      <th>LowUrgencyThreshold</th>\n",
       "      <th>HighUrgencyThreshold</th>\n",
       "      <th>PeopleCounterId</th>\n",
       "      <th>PeopleCounterIsProvisioned</th>\n",
       "      <th>PeopleCounterCreatedAt</th>\n",
       "      <th>CustomerId</th>\n",
       "      <th>CustomerName</th>\n",
       "      <th>SiteId</th>\n",
       "      <th>SiteName</th>\n",
       "      <th>CountryCode</th>\n",
       "      <th>TimezoneId</th>\n",
       "      <th>CreatedAt</th>\n",
       "      <th>UpdatedAt</th>\n",
       "      <th>SubscriptionName</th>\n",
       "      <th>SubscriptionRate</th>\n",
       "      <th>SubscriptionStart</th>\n",
       "      <th>SubscriptionEnd</th>\n",
       "      <th>SubscriptionIsActive</th>\n",
       "      <th>SubscriptionProductCode</th>\n",
       "      <th>SubscriptionProductName</th>\n",
       "      <th>SubscriptionProductDescription</th>\n",
       "    </tr>\n",
       "  </thead>\n",
       "  <tbody>\n",
       "    <tr>\n",
       "      <th>0</th>\n",
       "      <td>162171</td>\n",
       "      <td>Site 9</td>\n",
       "      <td>9</td>\n",
       "      <td>1</td>\n",
       "      <td>/9/</td>\n",
       "      <td>/</td>\n",
       "      <td>NaN</td>\n",
       "      <td>NaN</td>\n",
       "      <td>NaN</td>\n",
       "      <td>NaN</td>\n",
       "      <td>None</td>\n",
       "      <td>9</td>\n",
       "      <td>Customer 9</td>\n",
       "      <td>9</td>\n",
       "      <td>Site 9</td>\n",
       "      <td>de</td>\n",
       "      <td>W. Europe Standard Time</td>\n",
       "      <td>2015-11-19 18:21:07.3000000 +00:00</td>\n",
       "      <td>2017-12-15 13:13:46.9766667 +00:00</td>\n",
       "      <td>Subscription 9</td>\n",
       "      <td>7492</td>\n",
       "      <td>2015-11-19 18:21:07.3000000 +00:00</td>\n",
       "      <td>None</td>\n",
       "      <td>1</td>\n",
       "      <td>P001</td>\n",
       "      <td>DCP 500</td>\n",
       "      <td>Digital Cleaning Plans 500</td>\n",
       "    </tr>\n",
       "    <tr>\n",
       "      <th>1</th>\n",
       "      <td>1157</td>\n",
       "      <td>Location 1157</td>\n",
       "      <td>9</td>\n",
       "      <td>2</td>\n",
       "      <td>/9/1/</td>\n",
       "      <td>/9/</td>\n",
       "      <td>NaN</td>\n",
       "      <td>NaN</td>\n",
       "      <td>NaN</td>\n",
       "      <td>NaN</td>\n",
       "      <td>None</td>\n",
       "      <td>9</td>\n",
       "      <td>Customer 9</td>\n",
       "      <td>9</td>\n",
       "      <td>Site 9</td>\n",
       "      <td>de</td>\n",
       "      <td>W. Europe Standard Time</td>\n",
       "      <td>2015-11-19 18:21:07.3000000 +00:00</td>\n",
       "      <td>2017-12-15 13:13:46.9766667 +00:00</td>\n",
       "      <td>Subscription 9</td>\n",
       "      <td>7492</td>\n",
       "      <td>2015-11-19 18:21:07.3000000 +00:00</td>\n",
       "      <td>None</td>\n",
       "      <td>1</td>\n",
       "      <td>P001</td>\n",
       "      <td>DCP 500</td>\n",
       "      <td>Digital Cleaning Plans 500</td>\n",
       "    </tr>\n",
       "    <tr>\n",
       "      <th>2</th>\n",
       "      <td>1158</td>\n",
       "      <td>Location 1158</td>\n",
       "      <td>9</td>\n",
       "      <td>3</td>\n",
       "      <td>/9/1/1/</td>\n",
       "      <td>/9/1/</td>\n",
       "      <td>NaN</td>\n",
       "      <td>NaN</td>\n",
       "      <td>NaN</td>\n",
       "      <td>NaN</td>\n",
       "      <td>None</td>\n",
       "      <td>9</td>\n",
       "      <td>Customer 9</td>\n",
       "      <td>9</td>\n",
       "      <td>Site 9</td>\n",
       "      <td>de</td>\n",
       "      <td>W. Europe Standard Time</td>\n",
       "      <td>2015-11-19 18:21:07.3000000 +00:00</td>\n",
       "      <td>2017-12-15 13:13:46.9766667 +00:00</td>\n",
       "      <td>Subscription 9</td>\n",
       "      <td>7492</td>\n",
       "      <td>2015-11-19 18:21:07.3000000 +00:00</td>\n",
       "      <td>None</td>\n",
       "      <td>1</td>\n",
       "      <td>P001</td>\n",
       "      <td>DCP 500</td>\n",
       "      <td>Digital Cleaning Plans 500</td>\n",
       "    </tr>\n",
       "  </tbody>\n",
       "</table>\n",
       "</div>"
      ],
      "text/plain": [
       "   LocationId  ... SubscriptionProductDescription\n",
       "0      162171  ...     Digital Cleaning Plans 500\n",
       "1        1157  ...     Digital Cleaning Plans 500\n",
       "2        1158  ...     Digital Cleaning Plans 500\n",
       "\n",
       "[3 rows x 27 columns]"
      ]
     },
     "execution_count": 113,
     "metadata": {
      "tags": []
     },
     "output_type": "execute_result"
    }
   ],
   "source": [
    "join_sit_loc_query = \"\"\"\n",
    "  SELECT *\n",
    "  FROM locations L LEFT JOIN sites S ON S.SiteId=L.SiteId \n",
    "\"\"\"\n",
    "\n",
    "site_loc = ps.sqldf(join_sit_loc_query, locals())\n",
    "site_loc.head(3)"
   ]
  },
  {
   "cell_type": "markdown",
   "metadata": {
    "id": "6F8qwva245Sa"
   },
   "source": [
    "### Highlight 1: Find 'location' Density via Node Path <a class=\"anchor\" id=\"S2.1\"></a>\n",
    "\n",
    "To understand the geographical lay out of locations (in terms of branch from parent node), we grouped data by **ParentNodePath** and counted how many child locations does a parent node own."
   ]
  },
  {
   "cell_type": "code",
   "execution_count": null,
   "metadata": {
    "colab": {
     "base_uri": "https://localhost:8080/",
     "height": 445
    },
    "id": "7OmwZEDA2PhW",
    "outputId": "93b415b5-a369-4108-9393-7b087909200b"
   },
   "outputs": [
    {
     "name": "stdout",
     "output_type": "stream",
     "text": [
      "count    2856.000000\n",
      "mean       11.613445\n",
      "std        11.664655\n",
      "min         1.000000\n",
      "25%         4.000000\n",
      "50%         7.000000\n",
      "75%        15.000000\n",
      "max        60.000000\n",
      "Name: locationDensity, dtype: float64\n"
     ]
    },
    {
     "data": {
      "image/png": "[encoded data removed]",
      "text/plain": [
       "<Figure size 432x288 with 1 Axes>"
      ]
     },
     "metadata": {
      "needs_background": "light",
      "tags": []
     },
     "output_type": "display_data"
    }
   ],
   "source": [
    " site_loc['locationDensity'] = site_loc['LocationId'].groupby(site_loc['ParentNodePath']).transform('count')\n",
    "\n",
    " sns.boxplot(site_loc.locationDensity)\n",
    " plt.title('Number of Locations per ParentNode')\n",
    "\n",
    "print(site_loc.describe()['locationDensity'])"
   ]
  },
  {
   "cell_type": "markdown",
   "metadata": {
    "id": "pNDbKhO05lrw"
   },
   "source": [
    "Statistics above suggest a wide range of number of child locations per parent node, from 1 to as many as 60. A large number of child nodes implies an spacious area. This newly created feature thus can be used as a general summary of the spatial property that each loation belongs to.\n",
    "\n",
    "---"
   ]
  },
  {
   "cell_type": "code",
   "execution_count": null,
   "metadata": {
    "colab": {
     "base_uri": "https://localhost:8080/",
     "height": 445
    },
    "id": "If-RHsZe05c3",
    "outputId": "d61f5b8e-bedf-42c7-e252-9a83952f6a0b"
   },
   "outputs": [
    {
     "name": "stdout",
     "output_type": "stream",
     "text": [
      "  CountryCode  LocationCounts\n",
      "2          dk              70\n",
      "7          uk             109\n",
      "6          sg             134\n",
      "1          de             214\n",
      "0          ch             278\n",
      "3          nl             358\n",
      "4          no             634\n",
      "5          se            1054\n"
     ]
    },
    {
     "data": {
      "image/png": "[encoded data removed]",
      "text/plain": [
       "<Figure size 432x288 with 1 Axes>"
      ]
     },
     "metadata": {
      "needs_background": "light",
      "tags": []
     },
     "output_type": "display_data"
    }
   ],
   "source": [
    "# Locations grouped by country\n",
    "print(site_loc.groupby(by=['CountryCode']).LocationId.nunique().reset_index(name='LocationCounts').sort_values(['LocationCounts']))\n",
    "\n",
    "sns.countplot(x='CountryCode', data=site_loc, palette=PALETTE)\n",
    "plt.title('Total Loacations per Country')\n",
    "plt.show()"
   ]
  },
  {
   "cell_type": "markdown",
   "metadata": {
    "id": "8WBaOwPVN9-H"
   },
   "source": [
    "From the graph above we could see that most of the sites of customers of Tork are from North European Countries. Several other sites are from within Europe and Sigapore."
   ]
  },
  {
   "cell_type": "code",
   "execution_count": null,
   "metadata": {
    "colab": {
     "base_uri": "https://localhost:8080/",
     "height": 523
    },
    "id": "tk7Owlq11QaX",
    "outputId": "ef690530-881f-4b4d-ef5d-4e365f9e1d66"
   },
   "outputs": [
    {
     "data": {
      "image/png": "[encoded data removed]",
      "text/plain": [
       "<Figure size 1152x288 with 2 Axes>"
      ]
     },
     "metadata": {
      "needs_background": "light",
      "tags": []
     },
     "output_type": "display_data"
    },
    {
     "name": "stdout",
     "output_type": "stream",
     "text": [
      "    CustomerId  LocationNum\n",
      "9          166           29\n",
      "10         179           70\n",
      "13        1326           80\n",
      "8          163          114\n",
      "12        1291          134\n",
      "3           32          139\n",
      "4           77          164\n",
      "0            9          214\n",
      "1           23          235\n",
      "6          133          279\n",
      "11        1266          305\n",
      "7          148          329\n",
      "5           91          358\n",
      "2           28          401\n"
     ]
    }
   ],
   "source": [
    "location_count=site_loc.groupby(by=['CustomerId']).agg({\"LocationId\" : pd.Series.nunique }).reset_index().rename(columns= {\"LocationId\": \"LocationNum\"}).sort_values(\"LocationNum\")\n",
    "\n",
    "_, axes = plt.subplots(1,2, figsize=(16,4))\n",
    "sns.countplot(x='CustomerId', data=site_loc, palette=PALETTE, ax=axes[0])\n",
    "axes[0].title.set_text(\"Locations Count by Site\")\n",
    "\n",
    "sns.boxplot(location_count.LocationNum, ax=axes[1])\n",
    "axes[1].title.set_text(\"Locations Count Distribution\")\n",
    "plt.show()\n",
    "\n",
    "print(location_count)"
   ]
  },
  {
   "cell_type": "markdown",
   "metadata": {
    "id": "RmxYzr903mAr"
   },
   "source": [
    "Customer28 has the maximum number of locations that are equipped with Tork's products. The number of locations per client is wide (29 to 401), with quantiles 114, 164, 305."
   ]
  },
  {
   "cell_type": "markdown",
   "metadata": {
    "id": "TU8c5lut7kwd"
   },
   "source": [
    "## Highlight 2: Find Average Number of PeopleCounter per Location <a class=\"anchor\" id=\"S2.2\"></a>"
   ]
  },
  {
   "cell_type": "code",
   "execution_count": null,
   "metadata": {
    "colab": {
     "base_uri": "https://localhost:8080/"
    },
    "id": "KAECjgsn13pg",
    "outputId": "7e97cbd7-50ad-4706-d6b0-9daccb9e6da0"
   },
   "outputs": [
    {
     "name": "stdout",
     "output_type": "stream",
     "text": [
      "     SiteName  CounterRatio\n",
      "7   Site 2284      0.144262\n",
      "12    Site 28      0.169576\n",
      "2    Site 165      0.186380\n",
      "6    Site 200      0.214286\n",
      "0    Site 111      0.219512\n",
      "3    Site 176      0.249240\n",
      "8     Site 23      0.336170\n",
      "1    Site 131      0.502793\n",
      "5    Site 192      0.517241\n",
      "13    Site 32      0.568345\n",
      "4    Site 190      0.631579\n",
      "9   Site 2310      0.704545\n",
      "10  Site 2344      0.712500\n",
      "11  Site 2388      0.744444\n",
      "14     Site 9      0.761682\n"
     ]
    }
   ],
   "source": [
    "# Find number of people counter per location\n",
    "counter_count = site_loc.groupby('SiteName').PeopleCounterId.count().to_frame()\n",
    "location_count=site_loc.groupby('SiteName').agg({\"LocationId\" : pd.Series.nunique }).reset_index().rename(columns= {\"LocationId\": \"LocationNum\"})\n",
    "counter_loc = counter_count.merge(location_count, on='SiteName')\n",
    "\n",
    "# Find percentages of locations equipped with PeopleCounter per site\n",
    "counter_loc['CounterRatio']=counter_loc['PeopleCounterId']/counter_loc['LocationNum']\n",
    "print(counter_loc[['SiteName','CounterRatio']].sort_values('CounterRatio'))\n"
   ]
  },
  {
   "cell_type": "markdown",
   "metadata": {
    "id": "eSptamKZ5XQ7"
   },
   "source": [
    "A **CounterRatio** equal to 1 implies on average, 1 location has 1 people flow count sensor. Unfortunately, all sites provided has a **CounterRatio** below 1, limiting the size of available traffic data. \n",
    "\n",
    "---"
   ]
  },
  {
   "cell_type": "markdown",
   "metadata": {
    "id": "DHwvnXqH7hoy"
   },
   "source": [
    "As we proceed with analyzing traffic per location, we should be aware that this data may not be representative of all sites, as much traffic data was not collected."
   ]
  },
  {
   "cell_type": "code",
   "execution_count": null,
   "metadata": {
    "colab": {
     "base_uri": "https://localhost:8080/",
     "height": 207
    },
    "id": "1N1NOWz44tXt",
    "outputId": "8e47c8c0-d92a-4746-df9c-3e168127ae46"
   },
   "outputs": [
    {
     "data": {
      "text/html": [
       "<div>\n",
       "<style scoped>\n",
       "    .dataframe tbody tr th:only-of-type {\n",
       "        vertical-align: middle;\n",
       "    }\n",
       "\n",
       "    .dataframe tbody tr th {\n",
       "        vertical-align: top;\n",
       "    }\n",
       "\n",
       "    .dataframe thead th {\n",
       "        text-align: right;\n",
       "    }\n",
       "</style>\n",
       "<table border=\"1\" class=\"dataframe\">\n",
       "  <thead>\n",
       "    <tr style=\"text-align: right;\">\n",
       "      <th></th>\n",
       "      <th>intcnt</th>\n",
       "      <th>id</th>\n",
       "      <th>vru_id</th>\n",
       "      <th>manufacture_year</th>\n",
       "      <th>timestamp</th>\n",
       "      <th>counter_in</th>\n",
       "      <th>counter_out</th>\n",
       "      <th>batterylevel</th>\n",
       "      <th>signal_quality</th>\n",
       "      <th>signal_strength</th>\n",
       "      <th>software_version</th>\n",
       "      <th>dcu_id</th>\n",
       "      <th>dcu_version</th>\n",
       "      <th>count_in_from_sensor</th>\n",
       "      <th>count_out_from_sensor</th>\n",
       "      <th>status</th>\n",
       "      <th>PeopleCounterId</th>\n",
       "    </tr>\n",
       "  </thead>\n",
       "  <tbody>\n",
       "    <tr>\n",
       "      <th>0</th>\n",
       "      <td>1</td>\n",
       "      <td>140241981</td>\n",
       "      <td>286</td>\n",
       "      <td>20</td>\n",
       "      <td>2019-01-01 04:00:00.0000000</td>\n",
       "      <td>26664</td>\n",
       "      <td>0</td>\n",
       "      <td>3260</td>\n",
       "      <td>255</td>\n",
       "      <td>78</td>\n",
       "      <td>42</td>\n",
       "      <td>104</td>\n",
       "      <td>6</td>\n",
       "      <td>26664</td>\n",
       "      <td>0</td>\n",
       "      <td>0.0</td>\n",
       "      <td>2000.0</td>\n",
       "    </tr>\n",
       "    <tr>\n",
       "      <th>1</th>\n",
       "      <td>1</td>\n",
       "      <td>140253001</td>\n",
       "      <td>286</td>\n",
       "      <td>20</td>\n",
       "      <td>2019-01-01 05:00:00.0000000</td>\n",
       "      <td>26666</td>\n",
       "      <td>0</td>\n",
       "      <td>3260</td>\n",
       "      <td>255</td>\n",
       "      <td>74</td>\n",
       "      <td>42</td>\n",
       "      <td>104</td>\n",
       "      <td>6</td>\n",
       "      <td>26666</td>\n",
       "      <td>0</td>\n",
       "      <td>0.0</td>\n",
       "      <td>2000.0</td>\n",
       "    </tr>\n",
       "    <tr>\n",
       "      <th>2</th>\n",
       "      <td>1</td>\n",
       "      <td>140264383</td>\n",
       "      <td>286</td>\n",
       "      <td>20</td>\n",
       "      <td>2019-01-01 07:00:00.0000000</td>\n",
       "      <td>26668</td>\n",
       "      <td>0</td>\n",
       "      <td>3260</td>\n",
       "      <td>255</td>\n",
       "      <td>77</td>\n",
       "      <td>42</td>\n",
       "      <td>104</td>\n",
       "      <td>6</td>\n",
       "      <td>26668</td>\n",
       "      <td>0</td>\n",
       "      <td>0.0</td>\n",
       "      <td>2000.0</td>\n",
       "    </tr>\n",
       "  </tbody>\n",
       "</table>\n",
       "</div>"
      ],
      "text/plain": [
       "   intcnt         id  vru_id  ...  count_out_from_sensor status  PeopleCounterId\n",
       "0       1  140241981     286  ...                      0    0.0           2000.0\n",
       "1       1  140253001     286  ...                      0    0.0           2000.0\n",
       "2       1  140264383     286  ...                      0    0.0           2000.0\n",
       "\n",
       "[3 rows x 17 columns]"
      ]
     },
     "execution_count": 118,
     "metadata": {
      "tags": []
     },
     "output_type": "execute_result"
    }
   ],
   "source": [
    "vru_log.head(3)"
   ]
  },
  {
   "cell_type": "code",
   "execution_count": null,
   "metadata": {
    "colab": {
     "base_uri": "https://localhost:8080/"
    },
    "id": "avb0NmWe7_pb",
    "outputId": "c5caf9f5-29b1-45fa-d35f-aba26197e635"
   },
   "outputs": [
    {
     "data": {
      "text/plain": [
       "intcnt                   0.000000\n",
       "id                       0.000000\n",
       "vru_id                   0.000000\n",
       "manufacture_year         0.000000\n",
       "timestamp                0.000000\n",
       "counter_in               0.000000\n",
       "counter_out              0.000000\n",
       "batterylevel             0.000000\n",
       "signal_quality           0.000000\n",
       "signal_strength          0.000000\n",
       "software_version         0.000000\n",
       "dcu_id                   0.000000\n",
       "dcu_version              0.000000\n",
       "count_in_from_sensor     0.000000\n",
       "count_out_from_sensor    0.000000\n",
       "status                   0.000006\n",
       "PeopleCounterId          0.000006\n",
       "dtype: float64"
      ]
     },
     "execution_count": 119,
     "metadata": {
      "tags": []
     },
     "output_type": "execute_result"
    }
   ],
   "source": [
    "# Find percentages of missing values per column\n",
    "vru_log.isna().sum()/len(vru_log.index)"
   ]
  },
  {
   "cell_type": "markdown",
   "metadata": {
    "id": "GXZa682n8E-N"
   },
   "source": [
    "Only 1 entry has **stauts** and **PeopleCounterId** missing. "
   ]
  },
  {
   "cell_type": "code",
   "execution_count": null,
   "metadata": {
    "colab": {
     "base_uri": "https://localhost:8080/"
    },
    "id": "KL98LT008DaI",
    "outputId": "d722df2a-4c24-4a7f-d321-98cb6fba01dc"
   },
   "outputs": [
    {
     "data": {
      "text/plain": [
       "20    157785\n",
       "Name: manufacture_year, dtype: int64"
      ]
     },
     "execution_count": 120,
     "metadata": {
      "tags": []
     },
     "output_type": "execute_result"
    }
   ],
   "source": [
    "vru_log.manufacture_year.value_counts()"
   ]
  },
  {
   "cell_type": "markdown",
   "metadata": {
    "id": "oZ-GdNxL8Yg-"
   },
   "source": [
    "All sensors withi this table are manufactured in the year of 20."
   ]
  },
  {
   "cell_type": "code",
   "execution_count": null,
   "metadata": {
    "colab": {
     "base_uri": "https://localhost:8080/"
    },
    "id": "XYwfYic59GW8",
    "outputId": "05b2f204-0df2-454f-d403-0a3980d22836"
   },
   "outputs": [
    {
     "data": {
      "text/plain": [
       "0    157785\n",
       "Name: counter_out, dtype: int64"
      ]
     },
     "execution_count": 121,
     "metadata": {
      "tags": []
     },
     "output_type": "execute_result"
    }
   ],
   "source": [
    "vru_log.counter_out.value_counts()"
   ]
  },
  {
   "cell_type": "code",
   "execution_count": null,
   "metadata": {
    "colab": {
     "base_uri": "https://localhost:8080/"
    },
    "id": "c-Un9SlX9Mk4",
    "outputId": "90efcac7-7d69-4a5e-c56d-b620558d1b80"
   },
   "outputs": [
    {
     "data": {
      "text/plain": [
       "0    157785\n",
       "Name: count_out_from_sensor, dtype: int64"
      ]
     },
     "execution_count": 122,
     "metadata": {
      "tags": []
     },
     "output_type": "execute_result"
    }
   ],
   "source": [
    "vru_log.count_out_from_sensor.value_counts()"
   ]
  },
  {
   "cell_type": "markdown",
   "metadata": {
    "id": "WfrWRt6z9QmK"
   },
   "source": [
    "Both **counter_out** and **count_out_from_sensor** have only 0 entries. "
   ]
  },
  {
   "cell_type": "code",
   "execution_count": null,
   "metadata": {
    "colab": {
     "base_uri": "https://localhost:8080/",
     "height": 287
    },
    "id": "_W-Iprca8J__",
    "outputId": "6d737364-42ab-4e88-b867-cc45be62cdce"
   },
   "outputs": [
    {
     "data": {
      "text/html": [
       "<div>\n",
       "<style scoped>\n",
       "    .dataframe tbody tr th:only-of-type {\n",
       "        vertical-align: middle;\n",
       "    }\n",
       "\n",
       "    .dataframe tbody tr th {\n",
       "        vertical-align: top;\n",
       "    }\n",
       "\n",
       "    .dataframe thead th {\n",
       "        text-align: right;\n",
       "    }\n",
       "</style>\n",
       "<table border=\"1\" class=\"dataframe\">\n",
       "  <thead>\n",
       "    <tr style=\"text-align: right;\">\n",
       "      <th></th>\n",
       "      <th>counter_in</th>\n",
       "      <th>count_in_from_sensor</th>\n",
       "    </tr>\n",
       "  </thead>\n",
       "  <tbody>\n",
       "    <tr>\n",
       "      <th>count</th>\n",
       "      <td>1.577850e+05</td>\n",
       "      <td>1.577850e+05</td>\n",
       "    </tr>\n",
       "    <tr>\n",
       "      <th>mean</th>\n",
       "      <td>3.447766e+05</td>\n",
       "      <td>3.447766e+05</td>\n",
       "    </tr>\n",
       "    <tr>\n",
       "      <th>std</th>\n",
       "      <td>2.774241e+05</td>\n",
       "      <td>2.774241e+05</td>\n",
       "    </tr>\n",
       "    <tr>\n",
       "      <th>min</th>\n",
       "      <td>1.158000e+04</td>\n",
       "      <td>1.158000e+04</td>\n",
       "    </tr>\n",
       "    <tr>\n",
       "      <th>25%</th>\n",
       "      <td>1.606590e+05</td>\n",
       "      <td>1.606590e+05</td>\n",
       "    </tr>\n",
       "    <tr>\n",
       "      <th>50%</th>\n",
       "      <td>2.636640e+05</td>\n",
       "      <td>2.636640e+05</td>\n",
       "    </tr>\n",
       "    <tr>\n",
       "      <th>75%</th>\n",
       "      <td>4.086050e+05</td>\n",
       "      <td>4.086050e+05</td>\n",
       "    </tr>\n",
       "    <tr>\n",
       "      <th>max</th>\n",
       "      <td>1.519255e+06</td>\n",
       "      <td>1.519255e+06</td>\n",
       "    </tr>\n",
       "  </tbody>\n",
       "</table>\n",
       "</div>"
      ],
      "text/plain": [
       "         counter_in  count_in_from_sensor\n",
       "count  1.577850e+05          1.577850e+05\n",
       "mean   3.447766e+05          3.447766e+05\n",
       "std    2.774241e+05          2.774241e+05\n",
       "min    1.158000e+04          1.158000e+04\n",
       "25%    1.606590e+05          1.606590e+05\n",
       "50%    2.636640e+05          2.636640e+05\n",
       "75%    4.086050e+05          4.086050e+05\n",
       "max    1.519255e+06          1.519255e+06"
      ]
     },
     "execution_count": 123,
     "metadata": {
      "tags": []
     },
     "output_type": "execute_result"
    }
   ],
   "source": [
    "vru_log[['counter_in','count_in_from_sensor']].describe()"
   ]
  },
  {
   "cell_type": "markdown",
   "metadata": {
    "id": "Nvahwa2y8nEE"
   },
   "source": [
    "Both **counter_in** and **count_in_from_sensor** record the count from the sensor as seen in the gateway, one column can be safely dropped.\t"
   ]
  },
  {
   "cell_type": "code",
   "execution_count": null,
   "metadata": {
    "colab": {
     "base_uri": "https://localhost:8080/"
    },
    "id": "dQGvC57p8mBp",
    "outputId": "29022c61-389e-4ee3-8ced-9c6e3d3dea71"
   },
   "outputs": [
    {
     "data": {
      "text/plain": [
       "vru_id             102\n",
       "PeopleCounterId    102\n",
       "dtype: int64"
      ]
     },
     "execution_count": 124,
     "metadata": {
      "tags": []
     },
     "output_type": "execute_result"
    }
   ],
   "source": [
    "vru_log[['vru_id','PeopleCounterId']].nunique() # Both vru_id and PeopleCounterId uniquely identify a senser"
   ]
  },
  {
   "cell_type": "markdown",
   "metadata": {
    "id": "jJe-gaz888ja"
   },
   "source": [
    "Based on observations above, to save computation and storage cost, we will be dropping following features from *vru_log*:\n",
    "\n",
    "* intcnt - used to filter data\n",
    "* manufacture_year - all sensors are manufactured in the year of 20\n",
    "* counter_out, count_out_from_sensor - only have 0 entry\n",
    "* id - uniquely identify an entry of a table\n",
    "* count_in_from_sensor - same as **counter_in**\n",
    "* vru_id - same as **PeopleCounterId**"
   ]
  },
  {
   "cell_type": "code",
   "execution_count": null,
   "metadata": {
    "id": "VKxiMP6X85ty"
   },
   "outputs": [],
   "source": [
    "# For prospective join operations, use PeopleCounterId to uniquely identify sensors\n",
    "vru_log.vru_id = vru_log.PeopleCounterId\n",
    "\n",
    "vru_log.drop(labels=['intcnt','counter_out','count_out_from_sensor','id','count_in_from_sensor', 'manufacture_year','PeopleCounterId'], axis='columns', inplace=True)"
   ]
  },
  {
   "cell_type": "markdown",
   "metadata": {
    "id": "ctzRHeH8-Bzu"
   },
   "source": [
    "From given data, we observe that **timestamp** is recorded in hour, **counter_in** stores the cumulative count. Our next step is to find the hourly, daily number of visits per location.\n",
    "\n",
    "**Note**: For the subsequent analysis on *vru_log*, we will be assuming the sensors do not suffer malfunctions, and thus the data accurately record visitor counts."
   ]
  },
  {
   "cell_type": "markdown",
   "metadata": {
    "id": "mNwSgOdD9izu"
   },
   "source": [
    "## Highlight 3: Find Hourly Visitor Count <a class=\"anchor\" id=\"S2.3\"></a>"
   ]
  },
  {
   "cell_type": "code",
   "execution_count": null,
   "metadata": {
    "id": "5Bu8DruB9-Wn"
   },
   "outputs": [],
   "source": [
    "# Convert data to type timestamp\n",
    "vru_log['timestamp'] = pd.to_datetime(vru_log.timestamp)\n",
    "\n",
    "# Extract weekday, month, date, hour\n",
    "vru_log['weekday'] = vru_log.timestamp.dt.dayofweek\n",
    "vru_log['month'] = vru_log.timestamp.dt.month\n",
    "vru_log['TimeofDay'] = vru_log.timestamp.dt.hour\n",
    "vru_log['date'] = vru_log.timestamp.dt.date"
   ]
  },
  {
   "cell_type": "code",
   "execution_count": null,
   "metadata": {
    "id": "MwBwilQN-5ah"
   },
   "outputs": [],
   "source": [
    "# Calculate hourly entrances\n",
    "vru_log.sort_values(['vru_id','timestamp'], inplace=True)\n",
    "vru_log['hourly_entry_count'] = vru_log.counter_in.diff()/2.0 # Divide 2 each visitor activates sensor twice (in and out)\n",
    "\n",
    "# Adjust boundaries\n",
    "mask = vru_log.vru_id != vru_log.vru_id.shift(1)\n",
    "vru_log['hourly_entry_count'][mask] = np.nan"
   ]
  },
  {
   "cell_type": "code",
   "execution_count": null,
   "metadata": {
    "colab": {
     "base_uri": "https://localhost:8080/",
     "height": 285
    },
    "id": "NJdVneeG_TSw",
    "outputId": "d3ede1b6-6eba-47d4-ac5b-e5bb35b92f78"
   },
   "outputs": [
    {
     "data": {
      "text/plain": [
       "Text(0.5, 1.0, 'Distribution of Visitor Count by Hour')"
      ]
     },
     "execution_count": 128,
     "metadata": {
      "tags": []
     },
     "output_type": "execute_result"
    },
    {
     "data": {
      "image/png": "[encoded data removed]",
      "text/plain": [
       "<Figure size 432x288 with 1 Axes>"
      ]
     },
     "metadata": {
      "needs_background": "light",
      "tags": []
     },
     "output_type": "display_data"
    }
   ],
   "source": [
    "sns.boxplot(y=\"hourly_entry_count\", data=vru_log)\n",
    "plt.title(\"Distribution of Visitor Count by Hour\")"
   ]
  },
  {
   "cell_type": "markdown",
   "metadata": {
    "id": "TKXBWF7P_zNF"
   },
   "source": [
    "Notice that certain sensor in specific hours may experience abnormally high traffic, which may trigger **high demand for dispensers** and would require higher frequency of refill request to cleaning staff."
   ]
  },
  {
   "cell_type": "code",
   "execution_count": null,
   "metadata": {
    "colab": {
     "base_uri": "https://localhost:8080/",
     "height": 285
    },
    "id": "WTsyMYxT_uqG",
    "outputId": "08790c6e-373c-4c5e-d8e8-7bb39ec82770"
   },
   "outputs": [
    {
     "data": {
      "text/plain": [
       "Text(0.5, 1.0, 'Distribution of Visitor Count by Hour')"
      ]
     },
     "execution_count": 129,
     "metadata": {
      "tags": []
     },
     "output_type": "execute_result"
    },
    {
     "data": {
      "image/png": "[encoded data removed]",
      "text/plain": [
       "<Figure size 432x288 with 1 Axes>"
      ]
     },
     "metadata": {
      "needs_background": "light",
      "tags": []
     },
     "output_type": "display_data"
    }
   ],
   "source": [
    "sns.boxplot(y=\"hourly_entry_count\", data=vru_log, showfliers=False)\n",
    "plt.title(\"Distribution of Visitor Count by Hour\")"
   ]
  },
  {
   "cell_type": "markdown",
   "metadata": {
    "id": "WLsX2hWyAI7U"
   },
   "source": [
    "After removing the outliers, above graph suggests the distribution of visitor by hour, with quantiles around 3, 5, 15."
   ]
  },
  {
   "cell_type": "markdown",
   "metadata": {
    "id": "l3KL89_jAVC2"
   },
   "source": [
    "We would like to find at what hours restrooms are more likely to experience unusually high traffic by filtering entries with **hourly_entry_cout** above the 90 percentile.\n",
    "\n",
    "---\n"
   ]
  },
  {
   "cell_type": "markdown",
   "metadata": {
    "id": "JADYUXUA97Nq"
   },
   "source": [
    "## Highlight 4: Abnormally High Traffic, Outlier Detection <a class=\"anchor\" id=\"S2.4\"></a>\n",
    "\n",
    "In this detection, we only keep traffic counter data that has outlier that are higher than 90 quantile of the whole traffic count."
   ]
  },
  {
   "cell_type": "code",
   "execution_count": null,
   "metadata": {
    "id": "xPHl2-3J_GHk"
   },
   "outputs": [],
   "source": [
    "# Find locations with high traffic\n",
    "q = vru_log.hourly_entry_count.quantile(0.9)\n",
    "high_hourly_entry = vru_log[vru_log['hourly_entry_count']>=q]"
   ]
  },
  {
   "cell_type": "code",
   "execution_count": null,
   "metadata": {
    "colab": {
     "base_uri": "https://localhost:8080/",
     "height": 695
    },
    "id": "I5HW-sJqAw-n",
    "outputId": "5be40aa0-1a7e-4baa-9203-c5f3166f23c1"
   },
   "outputs": [
    {
     "name": "stdout",
     "output_type": "stream",
     "text": [
      "    TimeofDay  count\n",
      "17         18   1925\n",
      "16         17   1889\n",
      "15         16   1807\n",
      "13         14   1717\n",
      "14         15   1659\n",
      "12         13   1592\n",
      "11         12   1388\n",
      "18         19   1178\n",
      "10         11    874\n",
      "19         20    824\n",
      "9          10    412\n",
      "20         21    239\n",
      "8           9    168\n",
      "7           8     42\n",
      "21         22     23\n",
      "22         23     11\n",
      "0           1      9\n",
      "6           7      7\n",
      "5           6      6\n",
      "2           3      3\n",
      "1           2      2\n",
      "4           5      2\n",
      "3           4      1\n"
     ]
    },
    {
     "data": {
      "image/png": "[encoded data removed]",
      "text/plain": [
       "<Figure size 432x288 with 1 Axes>"
      ]
     },
     "metadata": {
      "needs_background": "light",
      "tags": []
     },
     "output_type": "display_data"
    }
   ],
   "source": [
    "print(high_hourly_entry.groupby(['TimeofDay']).vru_id.count().reset_index(name='count').sort_values(['count'], ascending=False))\n",
    "\n",
    "sns.countplot(x=vru_log.TimeofDay,palette=PALETTE)\n",
    "plt.title('Occurance Count of High Traffic in Time of a Day')\n",
    "plt.show()"
   ]
  },
  {
   "cell_type": "markdown",
   "metadata": {
    "id": "EaPNoXaFA5nU"
   },
   "source": [
    "As the table and visual above suggest, restrooms are more likely to experience abnormally high traffic at 15:00-17:00.\n",
    "\n",
    "---"
   ]
  },
  {
   "cell_type": "markdown",
   "metadata": {
    "id": "oMImRPo6-JLf"
   },
   "source": [
    "## Highlight 5: Visitor Count Distribution by Day and Hour <a class=\"anchor\" id=\"S2.5\"></a>"
   ]
  },
  {
   "cell_type": "code",
   "execution_count": null,
   "metadata": {
    "colab": {
     "base_uri": "https://localhost:8080/",
     "height": 477
    },
    "id": "ZRIvRdH1AyZt",
    "outputId": "85391bcc-ccf2-4455-a79d-93968eae6a60"
   },
   "outputs": [
    {
     "data": {
      "image/png": "[encoded data removed]",
      "text/plain": [
       "<Figure size 1152x576 with 2 Axes>"
      ]
     },
     "metadata": {
      "needs_background": "light",
      "tags": []
     },
     "output_type": "display_data"
    }
   ],
   "source": [
    "# Back to total hourly_entry_count\n",
    "fig,axes = plt.subplots(1,2,figsize=(16,8))\n",
    "\n",
    "sns.boxplot(x=vru_log.weekday,y=vru_log.hourly_entry_count, showfliers=False, ax=axes[0])\n",
    "axes[0].title.set_text(\"Weekday VS Traffic Count\")\n",
    "\n",
    "sns.boxplot(x=vru_log.TimeofDay,y=vru_log.hourly_entry_count, showfliers=False, ax=axes[1])\n",
    "axes[1].title.set_text(\"TimeofDay VS Traffic Count\")"
   ]
  },
  {
   "cell_type": "markdown",
   "metadata": {
    "id": "UdQ-_Uk1Bvyh"
   },
   "source": [
    "Back to total number of visitors per location, visuals above suggest Fridays experience highest traffic. Unlike 'abnormally high usage' analyzed in the previous step(15:00-17:00), in regular days , restrooms meet largest number of visits in 16:00-18:00. \\\\"
   ]
  },
  {
   "cell_type": "markdown",
   "metadata": {
    "id": "fiQAzYWWCao4"
   },
   "source": [
    "Subsequently, we will be analyzing the daily total visits per restroom."
   ]
  },
  {
   "cell_type": "code",
   "execution_count": null,
   "metadata": {
    "id": "NR-Kij1-Buac"
   },
   "outputs": [],
   "source": [
    "# Find the difference between first and last counter_in each day for each sensor\n",
    "def get_first_last_entrance(df):\n",
    "  return df.iloc[-1]['counter_in']-df.iloc[0]['counter_in']\n",
    "\n",
    "daily_count = vru_log.groupby(['vru_id','date']).apply(get_first_last_entrance).rename(\"daily_count\")"
   ]
  },
  {
   "cell_type": "code",
   "execution_count": null,
   "metadata": {
    "colab": {
     "base_uri": "https://localhost:8080/",
     "height": 407
    },
    "id": "c2eXtT1gCrBc",
    "outputId": "10437be2-41f6-480d-801b-6230f28e628b"
   },
   "outputs": [
    {
     "data": {
      "text/html": [
       "<div>\n",
       "<style scoped>\n",
       "    .dataframe tbody tr th:only-of-type {\n",
       "        vertical-align: middle;\n",
       "    }\n",
       "\n",
       "    .dataframe tbody tr th {\n",
       "        vertical-align: top;\n",
       "    }\n",
       "\n",
       "    .dataframe thead th {\n",
       "        text-align: right;\n",
       "    }\n",
       "</style>\n",
       "<table border=\"1\" class=\"dataframe\">\n",
       "  <thead>\n",
       "    <tr style=\"text-align: right;\">\n",
       "      <th></th>\n",
       "      <th>vru_id</th>\n",
       "      <th>date</th>\n",
       "      <th>daily_count</th>\n",
       "    </tr>\n",
       "  </thead>\n",
       "  <tbody>\n",
       "    <tr>\n",
       "      <th>0</th>\n",
       "      <td>1930.0</td>\n",
       "      <td>2019-01-01</td>\n",
       "      <td>61</td>\n",
       "    </tr>\n",
       "    <tr>\n",
       "      <th>1</th>\n",
       "      <td>1930.0</td>\n",
       "      <td>2019-01-02</td>\n",
       "      <td>206</td>\n",
       "    </tr>\n",
       "    <tr>\n",
       "      <th>2</th>\n",
       "      <td>1930.0</td>\n",
       "      <td>2019-01-03</td>\n",
       "      <td>173</td>\n",
       "    </tr>\n",
       "    <tr>\n",
       "      <th>3</th>\n",
       "      <td>1930.0</td>\n",
       "      <td>2019-01-04</td>\n",
       "      <td>205</td>\n",
       "    </tr>\n",
       "    <tr>\n",
       "      <th>4</th>\n",
       "      <td>1930.0</td>\n",
       "      <td>2019-01-05</td>\n",
       "      <td>169</td>\n",
       "    </tr>\n",
       "    <tr>\n",
       "      <th>...</th>\n",
       "      <td>...</td>\n",
       "      <td>...</td>\n",
       "      <td>...</td>\n",
       "    </tr>\n",
       "    <tr>\n",
       "      <th>18361</th>\n",
       "      <td>2240.0</td>\n",
       "      <td>2019-09-06</td>\n",
       "      <td>8</td>\n",
       "    </tr>\n",
       "    <tr>\n",
       "      <th>18362</th>\n",
       "      <td>2240.0</td>\n",
       "      <td>2019-09-07</td>\n",
       "      <td>10</td>\n",
       "    </tr>\n",
       "    <tr>\n",
       "      <th>18363</th>\n",
       "      <td>2240.0</td>\n",
       "      <td>2019-09-08</td>\n",
       "      <td>0</td>\n",
       "    </tr>\n",
       "    <tr>\n",
       "      <th>18364</th>\n",
       "      <td>2240.0</td>\n",
       "      <td>2019-09-09</td>\n",
       "      <td>25</td>\n",
       "    </tr>\n",
       "    <tr>\n",
       "      <th>18365</th>\n",
       "      <td>2240.0</td>\n",
       "      <td>2019-09-10</td>\n",
       "      <td>0</td>\n",
       "    </tr>\n",
       "  </tbody>\n",
       "</table>\n",
       "<p>18366 rows × 3 columns</p>\n",
       "</div>"
      ],
      "text/plain": [
       "       vru_id        date  daily_count\n",
       "0      1930.0  2019-01-01           61\n",
       "1      1930.0  2019-01-02          206\n",
       "2      1930.0  2019-01-03          173\n",
       "3      1930.0  2019-01-04          205\n",
       "4      1930.0  2019-01-05          169\n",
       "...       ...         ...          ...\n",
       "18361  2240.0  2019-09-06            8\n",
       "18362  2240.0  2019-09-07           10\n",
       "18363  2240.0  2019-09-08            0\n",
       "18364  2240.0  2019-09-09           25\n",
       "18365  2240.0  2019-09-10            0\n",
       "\n",
       "[18366 rows x 3 columns]"
      ]
     },
     "execution_count": 134,
     "metadata": {
      "tags": []
     },
     "output_type": "execute_result"
    }
   ],
   "source": [
    "daily_count = daily_count.reset_index()\n",
    "daily_count"
   ]
  },
  {
   "cell_type": "code",
   "execution_count": null,
   "metadata": {
    "colab": {
     "base_uri": "https://localhost:8080/",
     "height": 312
    },
    "id": "jTi77GhKC2kZ",
    "outputId": "83a45692-1f52-461e-8d1d-89940c2c1473"
   },
   "outputs": [
    {
     "data": {
      "text/plain": [
       "Text(0.5, 1.0, 'Daily Average Traffic for All Counters')"
      ]
     },
     "execution_count": 135,
     "metadata": {
      "tags": []
     },
     "output_type": "execute_result"
    },
    {
     "data": {
      "image/png": "[encoded data removed]",
      "text/plain": [
       "<Figure size 864x288 with 1 Axes>"
      ]
     },
     "metadata": {
      "needs_background": "light",
      "tags": []
     },
     "output_type": "display_data"
    }
   ],
   "source": [
    "daily_average = daily_count.groupby('date').mean()\n",
    "\n",
    "plt.figure(figsize=(12,4))\n",
    "sns.lineplot(x=daily_average.index, y=daily_average['daily_count'])\n",
    "plt.title('Daily Average Traffic for All Counters')"
   ]
  },
  {
   "cell_type": "markdown",
   "metadata": {
    "id": "Vq13ZaGcC34Q"
   },
   "source": [
    "Restrooms meet a significantly larger number of visitors in **summer**, **weekends in the beginning of September** and **holiday season**. Possible explanation are heated temparatue, which drives water consumption and thus restroom usages, school breaks, and holiday breaks. \n",
    "\n",
    "Additionally, demands slightly increase in weekends, compared to weekdays.\n",
    "\n",
    "---"
   ]
  },
  {
   "cell_type": "code",
   "execution_count": null,
   "metadata": {
    "id": "muZW_T6QCulM"
   },
   "outputs": [],
   "source": [
    "# Rename columns for prospective join operations\n",
    "daily_count.rename({\"vru_id\":'vru_id1', \"date\":'date1'}, axis=1, inplace=True)\n",
    "\n",
    "# Join daily_count with vru_log\n",
    "join_daily_count_vru = \"\"\"\n",
    "  SELECT *\n",
    "  FROM daily_count DC JOIN vru_log V ON DC.vru_id1=V.vru_id AND DC.date1=V.date\n",
    "\"\"\"\n",
    "\n",
    "vru_log = ps.sqldf(join_daily_count_vru, locals())\n",
    "# Drop join keys\n",
    "vru_log.drop(['date1','vru_id1'], axis=1, inplace=True)"
   ]
  },
  {
   "cell_type": "code",
   "execution_count": null,
   "metadata": {
    "colab": {
     "base_uri": "https://localhost:8080/",
     "height": 207
    },
    "id": "pvM-yPfdFMQZ",
    "outputId": "a3396f38-90ac-4a58-8ec6-c767ee922625"
   },
   "outputs": [
    {
     "data": {
      "text/html": [
       "<div>\n",
       "<style scoped>\n",
       "    .dataframe tbody tr th:only-of-type {\n",
       "        vertical-align: middle;\n",
       "    }\n",
       "\n",
       "    .dataframe tbody tr th {\n",
       "        vertical-align: top;\n",
       "    }\n",
       "\n",
       "    .dataframe thead th {\n",
       "        text-align: right;\n",
       "    }\n",
       "</style>\n",
       "<table border=\"1\" class=\"dataframe\">\n",
       "  <thead>\n",
       "    <tr style=\"text-align: right;\">\n",
       "      <th></th>\n",
       "      <th>daily_count</th>\n",
       "      <th>vru_id</th>\n",
       "      <th>timestamp</th>\n",
       "      <th>counter_in</th>\n",
       "      <th>batterylevel</th>\n",
       "      <th>signal_quality</th>\n",
       "      <th>signal_strength</th>\n",
       "      <th>software_version</th>\n",
       "      <th>dcu_id</th>\n",
       "      <th>dcu_version</th>\n",
       "      <th>status</th>\n",
       "      <th>weekday</th>\n",
       "      <th>month</th>\n",
       "      <th>TimeofDay</th>\n",
       "      <th>date</th>\n",
       "      <th>hourly_entry_count</th>\n",
       "    </tr>\n",
       "  </thead>\n",
       "  <tbody>\n",
       "    <tr>\n",
       "      <th>0</th>\n",
       "      <td>61</td>\n",
       "      <td>1930.0</td>\n",
       "      <td>2019-01-01 09:00:00.000000</td>\n",
       "      <td>334463</td>\n",
       "      <td>3240</td>\n",
       "      <td>255</td>\n",
       "      <td>82</td>\n",
       "      <td>42</td>\n",
       "      <td>134</td>\n",
       "      <td>9</td>\n",
       "      <td>0.0</td>\n",
       "      <td>1</td>\n",
       "      <td>1</td>\n",
       "      <td>9</td>\n",
       "      <td>2019-01-01</td>\n",
       "      <td>NaN</td>\n",
       "    </tr>\n",
       "    <tr>\n",
       "      <th>1</th>\n",
       "      <td>61</td>\n",
       "      <td>1930.0</td>\n",
       "      <td>2019-01-01 10:00:00.000000</td>\n",
       "      <td>334470</td>\n",
       "      <td>3240</td>\n",
       "      <td>255</td>\n",
       "      <td>82</td>\n",
       "      <td>42</td>\n",
       "      <td>134</td>\n",
       "      <td>9</td>\n",
       "      <td>0.0</td>\n",
       "      <td>1</td>\n",
       "      <td>1</td>\n",
       "      <td>10</td>\n",
       "      <td>2019-01-01</td>\n",
       "      <td>3.5</td>\n",
       "    </tr>\n",
       "    <tr>\n",
       "      <th>2</th>\n",
       "      <td>61</td>\n",
       "      <td>1930.0</td>\n",
       "      <td>2019-01-01 11:00:00.000000</td>\n",
       "      <td>334475</td>\n",
       "      <td>3240</td>\n",
       "      <td>255</td>\n",
       "      <td>88</td>\n",
       "      <td>42</td>\n",
       "      <td>134</td>\n",
       "      <td>9</td>\n",
       "      <td>0.0</td>\n",
       "      <td>1</td>\n",
       "      <td>1</td>\n",
       "      <td>11</td>\n",
       "      <td>2019-01-01</td>\n",
       "      <td>2.5</td>\n",
       "    </tr>\n",
       "  </tbody>\n",
       "</table>\n",
       "</div>"
      ],
      "text/plain": [
       "   daily_count  vru_id  ...        date  hourly_entry_count\n",
       "0           61  1930.0  ...  2019-01-01                 NaN\n",
       "1           61  1930.0  ...  2019-01-01                 3.5\n",
       "2           61  1930.0  ...  2019-01-01                 2.5\n",
       "\n",
       "[3 rows x 16 columns]"
      ]
     },
     "execution_count": 137,
     "metadata": {
      "tags": []
     },
     "output_type": "execute_result"
    }
   ],
   "source": [
    "vru_log.head(3)"
   ]
  },
  {
   "cell_type": "markdown",
   "metadata": {
    "id": "OUsxbRptErrW"
   },
   "source": [
    "We then join *vru_log* with *locations* to gain insights into how locations, sites affect restroom usages."
   ]
  },
  {
   "cell_type": "code",
   "execution_count": null,
   "metadata": {
    "id": "d4gkdqDGEkC4"
   },
   "outputs": [],
   "source": [
    "join_vru_loc_query = \"\"\"\n",
    "  WITH sl AS(\n",
    "    SELECT CustomerId, SiteId, CountryCode, LocationId, LowUrgencyThreshold, \n",
    "           HighUrgencyThreshold, PeopleCounterId,locationDensity, NodeLevel\n",
    "    FROM site_loc\n",
    "  )\n",
    "  SELECT *\n",
    "  FROM sl JOIN vru_log VL ON sl.PeopleCounterId=VL.vru_id\n",
    "\"\"\"\n",
    "\n",
    "people_loc = ps.sqldf(join_vru_loc_query, locals())\n",
    "people_loc.drop_duplicates(inplace=True)"
   ]
  },
  {
   "cell_type": "code",
   "execution_count": null,
   "metadata": {
    "colab": {
     "base_uri": "https://localhost:8080/"
    },
    "id": "KvLQz6vZE2BW",
    "outputId": "09f69fc2-dbcf-4821-ac85-2c9fd40d7fa7"
   },
   "outputs": [
    {
     "data": {
      "text/plain": [
       "32    98469\n",
       "23    58443\n",
       "Name: SiteId, dtype: int64"
      ]
     },
     "execution_count": 139,
     "metadata": {
      "tags": []
     },
     "output_type": "execute_result"
    }
   ],
   "source": [
    "people_loc.SiteId.value_counts()"
   ]
  },
  {
   "cell_type": "markdown",
   "metadata": {
    "id": "DlkF4-Q5GYD5"
   },
   "source": [
    "Unfortunately, only sensors from *site32* and *site23* have been gathered. The people flow traffic data could only represent data from those two sites."
   ]
  },
  {
   "cell_type": "code",
   "execution_count": null,
   "metadata": {
    "colab": {
     "base_uri": "https://localhost:8080/",
     "height": 197
    },
    "id": "HNyQqG5PGrSx",
    "outputId": "4f0d5f56-742e-45a5-8521-73447205ea05"
   },
   "outputs": [
    {
     "data": {
      "text/html": [
       "<div>\n",
       "<style scoped>\n",
       "    .dataframe tbody tr th:only-of-type {\n",
       "        vertical-align: middle;\n",
       "    }\n",
       "\n",
       "    .dataframe tbody tr th {\n",
       "        vertical-align: top;\n",
       "    }\n",
       "\n",
       "    .dataframe thead th {\n",
       "        text-align: right;\n",
       "    }\n",
       "</style>\n",
       "<table border=\"1\" class=\"dataframe\">\n",
       "  <thead>\n",
       "    <tr style=\"text-align: right;\">\n",
       "      <th></th>\n",
       "      <th>daily_count</th>\n",
       "      <th>LocationId</th>\n",
       "      <th>date</th>\n",
       "      <th>NodeLevel</th>\n",
       "      <th>locationDensity</th>\n",
       "    </tr>\n",
       "  </thead>\n",
       "  <tbody>\n",
       "    <tr>\n",
       "      <th>0</th>\n",
       "      <td>8</td>\n",
       "      <td>233</td>\n",
       "      <td>2019-01-29</td>\n",
       "      <td>3</td>\n",
       "      <td>6</td>\n",
       "    </tr>\n",
       "    <tr>\n",
       "      <th>2</th>\n",
       "      <td>61</td>\n",
       "      <td>233</td>\n",
       "      <td>2019-01-01</td>\n",
       "      <td>3</td>\n",
       "      <td>6</td>\n",
       "    </tr>\n",
       "    <tr>\n",
       "      <th>10</th>\n",
       "      <td>167</td>\n",
       "      <td>233</td>\n",
       "      <td>2019-01-06</td>\n",
       "      <td>3</td>\n",
       "      <td>6</td>\n",
       "    </tr>\n",
       "    <tr>\n",
       "      <th>20</th>\n",
       "      <td>169</td>\n",
       "      <td>233</td>\n",
       "      <td>2019-01-05</td>\n",
       "      <td>3</td>\n",
       "      <td>6</td>\n",
       "    </tr>\n",
       "    <tr>\n",
       "      <th>34</th>\n",
       "      <td>173</td>\n",
       "      <td>233</td>\n",
       "      <td>2019-01-03</td>\n",
       "      <td>3</td>\n",
       "      <td>6</td>\n",
       "    </tr>\n",
       "  </tbody>\n",
       "</table>\n",
       "</div>"
      ],
      "text/plain": [
       "    daily_count  LocationId        date  NodeLevel  locationDensity\n",
       "0             8         233  2019-01-29          3                6\n",
       "2            61         233  2019-01-01          3                6\n",
       "10          167         233  2019-01-06          3                6\n",
       "20          169         233  2019-01-05          3                6\n",
       "34          173         233  2019-01-03          3                6"
      ]
     },
     "execution_count": 140,
     "metadata": {
      "tags": []
     },
     "output_type": "execute_result"
    }
   ],
   "source": [
    "location_daily = people_loc[['daily_count','LocationId','date','NodeLevel','locationDensity']].drop_duplicates()\n",
    "location_daily.head(5)"
   ]
  },
  {
   "cell_type": "markdown",
   "metadata": {
    "id": "7Gr0kRuqGhlJ"
   },
   "source": [
    "Moving foward to *sensors* table. In addition to finding locations needing more dispensers using traffic data, we also use **refillment frequency** to evaluate if dispensers' supply is adequate. **If a dispenser is refilled more frequent than normal pattern, it either implies a sensor malfunction, or a need for more cleaning product supplies.**"
   ]
  },
  {
   "cell_type": "code",
   "execution_count": null,
   "metadata": {
    "colab": {
     "base_uri": "https://localhost:8080/"
    },
    "id": "5VWAIRhHE3QD",
    "outputId": "9e75add9-35e7-4abd-9f0e-aabe82ff316a"
   },
   "outputs": [
    {
     "data": {
      "text/plain": [
       "DispenserId               0.000000\n",
       "LocationId                0.000000\n",
       "DispenserArticleNumber    0.000000\n",
       "IsProvisioned             0.000000\n",
       "CreatedAt                 0.000000\n",
       "DispenserType             0.000000\n",
       "NumberOfSensors           0.000000\n",
       "ProductName               0.000000\n",
       "RefillArticleNumber       0.158346\n",
       "dtype: float64"
      ]
     },
     "execution_count": 141,
     "metadata": {
      "tags": []
     },
     "output_type": "execute_result"
    }
   ],
   "source": [
    "dispensers.isna().sum()/len(dispensers.index)"
   ]
  },
  {
   "cell_type": "markdown",
   "metadata": {
    "id": "AvMU3Y9AGzdW"
   },
   "source": [
    "Only column **RefillArticleNumber** has 15.8% missing values."
   ]
  },
  {
   "cell_type": "code",
   "execution_count": null,
   "metadata": {
    "colab": {
     "base_uri": "https://localhost:8080/",
     "height": 279
    },
    "id": "o4U3CpS0FBoF",
    "outputId": "a63ff5d9-ee0f-430d-d5a2-1042958aefc6"
   },
   "outputs": [
    {
     "data": {
      "image/png": "[encoded data removed]",
      "text/plain": [
       "<Figure size 432x288 with 1 Axes>"
      ]
     },
     "metadata": {
      "needs_background": "light",
      "tags": []
     },
     "output_type": "display_data"
    }
   ],
   "source": [
    "sns.countplot(x=dispensers.IsProvisioned, palette=PALETTE)\n",
    "plt.show()"
   ]
  },
  {
   "cell_type": "markdown",
   "metadata": {
    "id": "Yb1JaFeKG8hB"
   },
   "source": [
    "All entries in *dispensers* has **isProvisioned** labeled False."
   ]
  },
  {
   "cell_type": "markdown",
   "metadata": {
    "id": "KOFyi0AC-3HM"
   },
   "source": [
    "## Highlight 6: Dispenser per Location <a class=\"anchor\" id=\"S2.6\"></a>\n",
    "\n"
   ]
  },
  {
   "cell_type": "code",
   "execution_count": null,
   "metadata": {
    "colab": {
     "base_uri": "https://localhost:8080/"
    },
    "id": "kcXqHJFmG5-B",
    "outputId": "f0116fcf-6806-41d5-834c-aada17bfd802"
   },
   "outputs": [
    {
     "name": "stdout",
     "output_type": "stream",
     "text": [
      "Average dispensers per location is 3.1640677966101696 \n"
     ]
    }
   ],
   "source": [
    "dispenser_per_location = dispensers.groupby(\"LocationId\").DispenserId.count().reset_index(name='count').sort_values(['count'],ascending=False)\n",
    "print(\"Average dispensers per location is {} \".format(dispenser_per_location['count'].sum()/len(dispenser_per_location.index)))"
   ]
  },
  {
   "cell_type": "markdown",
   "metadata": {
    "id": "LE7W1yeHHN9n"
   },
   "source": [
    "On average, each location has about 3 dispenser mounted for usage."
   ]
  },
  {
   "cell_type": "code",
   "execution_count": null,
   "metadata": {
    "colab": {
     "base_uri": "https://localhost:8080/",
     "height": 312
    },
    "id": "zRLL47SrHLbZ",
    "outputId": "8d13562f-b958-47a2-c5c1-c852d3059fa6"
   },
   "outputs": [
    {
     "data": {
      "text/plain": [
       "Text(0.5, 1.0, 'Number of Dispensers per Location Distribution')"
      ]
     },
     "execution_count": 144,
     "metadata": {
      "tags": []
     },
     "output_type": "execute_result"
    },
    {
     "data": {
      "image/png": "[encoded data removed]",
      "text/plain": [
       "<Figure size 432x288 with 1 Axes>"
      ]
     },
     "metadata": {
      "needs_background": "light",
      "tags": []
     },
     "output_type": "display_data"
    }
   ],
   "source": [
    "sns.countplot(dispenser_per_location['count'])\n",
    "plt.title('Number of Dispensers per Location Distribution')"
   ]
  },
  {
   "cell_type": "markdown",
   "metadata": {
    "id": "njLp2hzeHTP9"
   },
   "source": [
    "Most locations have 1-4 sensors, with a small number of locations have more than 10 sensors. From this we could see that most location in our set are nomral size washroom or similar place that require small amount of dispensers."
   ]
  },
  {
   "cell_type": "markdown",
   "metadata": {
    "id": "D40D2uPDoab1"
   },
   "source": [
    "\n",
    "\n",
    "***\n",
    "\n",
    "\n",
    "\n"
   ]
  },
  {
   "cell_type": "markdown",
   "metadata": {
    "id": "9LLq-JzGHba9"
   },
   "source": [
    "## Highlight 7: Dispenser per Visit Ratio <a class=\"anchor\" id=\"S2.7\"></a>\n",
    "\n",
    "\n"
   ]
  },
  {
   "cell_type": "code",
   "execution_count": null,
   "metadata": {
    "id": "1iFRFURfHSM-"
   },
   "outputs": [],
   "source": [
    "location_daily_mean = location_daily.groupby('LocationId').daily_count.mean().reset_index(name='avg_daily')\n",
    "traffic_vs_dispenser = dispenser_per_location.merge(location_daily_mean, how='left', on='LocationId')"
   ]
  },
  {
   "cell_type": "code",
   "execution_count": null,
   "metadata": {
    "colab": {
     "base_uri": "https://localhost:8080/",
     "height": 296
    },
    "id": "elB0CH6VHaXY",
    "outputId": "fcbd6a08-73a9-400d-9a7c-84b81be60401"
   },
   "outputs": [
    {
     "data": {
      "image/png": "[encoded data removed]",
      "text/plain": [
       "<Figure size 432x288 with 1 Axes>"
      ]
     },
     "metadata": {
      "needs_background": "light",
      "tags": []
     },
     "output_type": "display_data"
    }
   ],
   "source": [
    "sns.scatterplot( x='avg_daily', y='count',data=traffic_vs_dispenser)\n",
    "plt.ylabel('Dispenser Count')\n",
    "plt.yticks(np.arange(1,4, 1.0))\n",
    "plt.title('Average Daily Visits VS. Dispenser Count')\n",
    "plt.show()"
   ]
  },
  {
   "cell_type": "markdown",
   "metadata": {
    "id": "aaa9Q6msGU2U"
   },
   "source": [
    "Due to limits of given data, only locations with 1-3 dispensers have traffic data recorded in *vru_log*. However, visualization above indicates some locations, in the bottom-right corner of the scatter plot, welcome a averaged daily number of visitors greater than 600, yet only have 1 dispenser installed. \n",
    "\n",
    "This observation lays the prime focus of our subsequent analysis. To boost dispenser sales and thus in return generate revenue, our goal is to identifify restrooms experience heavy traffic, yet are only equipped with relatively insufficient number of dispensers. Locating these restrooms helps Tork elevate its product supply to meet the excessive demand. Tork's customers, in return, is rewarded with a reduced dispenser refill frequency, shortened cleaning hours and, ultimately, an energy-efficient and cleaner restroom environment."
   ]
  },
  {
   "cell_type": "markdown",
   "metadata": {
    "id": "fpaS4U_q_RZq"
   },
   "source": [
    "### Outlier Detection: Find Insufficient Dispensers via Number of Visitors <a class=\"anchor\" id=\"S2.7.1\"></a>"
   ]
  },
  {
   "cell_type": "code",
   "execution_count": null,
   "metadata": {
    "id": "_kplNZDSGGsf"
   },
   "outputs": [],
   "source": [
    "# Find ratio of number of dispensers over daily visitor count\n",
    "traffic_vs_dispenser['log_dispenser_per_visit_ratio'] = np.log(traffic_vs_dispenser['count']/traffic_vs_dispenser.avg_daily)\n",
    "traffic_vs_dispenser['dispenser_per_visit_ratio'] = traffic_vs_dispenser['count']/traffic_vs_dispenser.avg_daily"
   ]
  },
  {
   "cell_type": "code",
   "execution_count": null,
   "metadata": {
    "colab": {
     "base_uri": "https://localhost:8080/",
     "height": 276
    },
    "id": "R8n1W5EJMJfL",
    "outputId": "0f0983a6-831f-4a93-f0fb-4ccd8ec66361"
   },
   "outputs": [
    {
     "data": {
      "image/png": "[encoded data removed]",
      "text/plain": [
       "<Figure size 1152x288 with 2 Axes>"
      ]
     },
     "metadata": {
      "needs_background": "light",
      "tags": []
     },
     "output_type": "display_data"
    }
   ],
   "source": [
    "_,axes = plt.subplots(1,2,figsize=(16,4))\n",
    "\n",
    "sns.distplot(traffic_vs_dispenser.log_dispenser_per_visit_ratio, ax=axes[1])\n",
    "axes[1].title.set_text(\"log_transformed Dispenser/Visit ratio\")\n",
    "\n",
    "sns.distplot(traffic_vs_dispenser.dispenser_per_visit_ratio, ax=axes[0])\n",
    "axes[0].title.set_text(\"Dispenser/Visit ratio\")"
   ]
  },
  {
   "cell_type": "code",
   "execution_count": null,
   "metadata": {
    "colab": {
     "base_uri": "https://localhost:8080/",
     "height": 317
    },
    "id": "W8h2UVgtMKgm",
    "outputId": "c95ee90d-c2d5-4ada-cf47-6bd4ae4ae537"
   },
   "outputs": [
    {
     "data": {
      "text/html": [
       "<div>\n",
       "<style scoped>\n",
       "    .dataframe tbody tr th:only-of-type {\n",
       "        vertical-align: middle;\n",
       "    }\n",
       "\n",
       "    .dataframe tbody tr th {\n",
       "        vertical-align: top;\n",
       "    }\n",
       "\n",
       "    .dataframe thead th {\n",
       "        text-align: right;\n",
       "    }\n",
       "</style>\n",
       "<table border=\"1\" class=\"dataframe\">\n",
       "  <thead>\n",
       "    <tr style=\"text-align: right;\">\n",
       "      <th></th>\n",
       "      <th>LocationId</th>\n",
       "      <th>count</th>\n",
       "      <th>avg_daily</th>\n",
       "      <th>log_dispenser_per_visit_ratio</th>\n",
       "      <th>dispenser_per_visit_ratio</th>\n",
       "    </tr>\n",
       "  </thead>\n",
       "  <tbody>\n",
       "    <tr>\n",
       "      <th>651</th>\n",
       "      <td>421</td>\n",
       "      <td>3</td>\n",
       "      <td>16.520000</td>\n",
       "      <td>-1.705959</td>\n",
       "      <td>0.181598</td>\n",
       "    </tr>\n",
       "    <tr>\n",
       "      <th>662</th>\n",
       "      <td>395</td>\n",
       "      <td>3</td>\n",
       "      <td>29.080000</td>\n",
       "      <td>-2.271438</td>\n",
       "      <td>0.103164</td>\n",
       "    </tr>\n",
       "    <tr>\n",
       "      <th>666</th>\n",
       "      <td>422</td>\n",
       "      <td>3</td>\n",
       "      <td>16.208333</td>\n",
       "      <td>-1.686913</td>\n",
       "      <td>0.185090</td>\n",
       "    </tr>\n",
       "    <tr>\n",
       "      <th>673</th>\n",
       "      <td>433</td>\n",
       "      <td>3</td>\n",
       "      <td>20.889764</td>\n",
       "      <td>-1.940647</td>\n",
       "      <td>0.143611</td>\n",
       "    </tr>\n",
       "    <tr>\n",
       "      <th>674</th>\n",
       "      <td>438</td>\n",
       "      <td>3</td>\n",
       "      <td>22.125000</td>\n",
       "      <td>-1.998096</td>\n",
       "      <td>0.135593</td>\n",
       "    </tr>\n",
       "    <tr>\n",
       "      <th>678</th>\n",
       "      <td>1202</td>\n",
       "      <td>3</td>\n",
       "      <td>5.802419</td>\n",
       "      <td>-0.659663</td>\n",
       "      <td>0.517026</td>\n",
       "    </tr>\n",
       "    <tr>\n",
       "      <th>679</th>\n",
       "      <td>1201</td>\n",
       "      <td>3</td>\n",
       "      <td>11.425101</td>\n",
       "      <td>-1.337201</td>\n",
       "      <td>0.262580</td>\n",
       "    </tr>\n",
       "    <tr>\n",
       "      <th>773</th>\n",
       "      <td>253</td>\n",
       "      <td>3</td>\n",
       "      <td>28.840000</td>\n",
       "      <td>-2.263151</td>\n",
       "      <td>0.104022</td>\n",
       "    </tr>\n",
       "    <tr>\n",
       "      <th>844</th>\n",
       "      <td>719</td>\n",
       "      <td>3</td>\n",
       "      <td>7.888889</td>\n",
       "      <td>-0.966843</td>\n",
       "      <td>0.380282</td>\n",
       "    </tr>\n",
       "  </tbody>\n",
       "</table>\n",
       "</div>"
      ],
      "text/plain": [
       "     LocationId  ...  dispenser_per_visit_ratio\n",
       "651         421  ...                   0.181598\n",
       "662         395  ...                   0.103164\n",
       "666         422  ...                   0.185090\n",
       "673         433  ...                   0.143611\n",
       "674         438  ...                   0.135593\n",
       "678        1202  ...                   0.517026\n",
       "679        1201  ...                   0.262580\n",
       "773         253  ...                   0.104022\n",
       "844         719  ...                   0.380282\n",
       "\n",
       "[9 rows x 5 columns]"
      ]
     },
     "execution_count": 149,
     "metadata": {
      "tags": []
     },
     "output_type": "execute_result"
    }
   ],
   "source": [
    "Q1 = traffic_vs_dispenser.dispenser_per_visit_ratio.quantile(0.25)\n",
    "Q3 = traffic_vs_dispenser.dispenser_per_visit_ratio.quantile(0.75)\n",
    "IQR = Q3 - Q1 \n",
    "\n",
    "traffic_vs_dispenser[(traffic_vs_dispenser['dispenser_per_visit_ratio']<(Q1-1.5*IQR))|(traffic_vs_dispenser['dispenser_per_visit_ratio']>(Q3+1.5*IQR))]"
   ]
  },
  {
   "cell_type": "markdown",
   "metadata": {
    "id": "UiJ_wloHMYuu"
   },
   "source": [
    "We pinpointed restrooms with insufficient number of dispensers using IQR outlier detection method. We started by defining a new metric to evaluate dispenser sufficiency per restroom. \n",
    "\n",
    "<center>$\\text{Dispenser per Visit Ratio} = \\frac{Number of Dispensers}{Average Daily Visitor Count}$</center>\n",
    "\n",
    "A larger ratio implies a higher likelihood the number of dispesners meet the usage needs. \n",
    "\n",
    "We then calculated the difference between 25 and 75 percentils of population ratio, filtered locations 1.5 times this difference below the 25 percentile. This methology gives us a list of restrooms in need of more dispensers. We label these locations 1 as **NotEnoughDispenser**, 0 otherwise."
   ]
  },
  {
   "cell_type": "code",
   "execution_count": null,
   "metadata": {
    "id": "btt7Or_sqaBm"
   },
   "outputs": [],
   "source": [
    "def label_enough_dispenser(row):\n",
    "  if row<Q1-1.5*IQR: \n",
    "    return 1\n",
    "  else:\n",
    "    return 0\n",
    "\n",
    "traffic_vs_dispenser['NotEnoughDispenser'] = traffic_vs_dispenser.dispenser_per_visit_ratio.apply(func=label_enough_dispenser)"
   ]
  },
  {
   "cell_type": "markdown",
   "metadata": {
    "id": "MAssb4xfOd3X"
   },
   "source": [
    "Our next step is to find restrooms requiring more dispenrs using *scu_log*.  *scu_log* documents if dispensers' level of full grades. \n",
    "\n",
    "Multiple scenarios lead to a dispenser drained up frequently: heavy traffic, visitors' immoderate consumption, malfunctioned sensors. We will be illustrating these scenarios accordingly."
   ]
  },
  {
   "cell_type": "markdown",
   "metadata": {
    "id": "DXUq1mx-oWyI"
   },
   "source": [
    "\n",
    "\n",
    "---\n",
    "\n"
   ]
  },
  {
   "cell_type": "code",
   "execution_count": null,
   "metadata": {
    "colab": {
     "base_uri": "https://localhost:8080/",
     "height": 207
    },
    "id": "tVX11RHHMXzt",
    "outputId": "29850b18-3a32-4610-db3e-59e56118d45f"
   },
   "outputs": [
    {
     "data": {
      "text/html": [
       "<div>\n",
       "<style scoped>\n",
       "    .dataframe tbody tr th:only-of-type {\n",
       "        vertical-align: middle;\n",
       "    }\n",
       "\n",
       "    .dataframe tbody tr th {\n",
       "        vertical-align: top;\n",
       "    }\n",
       "\n",
       "    .dataframe thead th {\n",
       "        text-align: right;\n",
       "    }\n",
       "</style>\n",
       "<table border=\"1\" class=\"dataframe\">\n",
       "  <thead>\n",
       "    <tr style=\"text-align: right;\">\n",
       "      <th></th>\n",
       "      <th>scu_id</th>\n",
       "      <th>timestamp</th>\n",
       "      <th>manufacture_year</th>\n",
       "      <th>sensor1</th>\n",
       "      <th>sensor2</th>\n",
       "      <th>gen_counter</th>\n",
       "      <th>batterylevel</th>\n",
       "      <th>signal_quality</th>\n",
       "      <th>signal_strength</th>\n",
       "      <th>software_version</th>\n",
       "      <th>DispenserId</th>\n",
       "      <th>intervall</th>\n",
       "      <th>empty_level</th>\n",
       "      <th>full_level</th>\n",
       "      <th>hysteresis</th>\n",
       "      <th>linked_scu_id</th>\n",
       "      <th>linked_scu_manufacture_year</th>\n",
       "      <th>link_pos</th>\n",
       "      <th>dispenser_type</th>\n",
       "      <th>scuStatus</th>\n",
       "    </tr>\n",
       "  </thead>\n",
       "  <tbody>\n",
       "    <tr>\n",
       "      <th>0</th>\n",
       "      <td>9617</td>\n",
       "      <td>2019-01-01 00:00:01.0000000</td>\n",
       "      <td>10</td>\n",
       "      <td>1347</td>\n",
       "      <td>64</td>\n",
       "      <td>0</td>\n",
       "      <td>2970</td>\n",
       "      <td>255</td>\n",
       "      <td>67</td>\n",
       "      <td>6</td>\n",
       "      <td>2892</td>\n",
       "      <td>30</td>\n",
       "      <td>700</td>\n",
       "      <td>250</td>\n",
       "      <td>50</td>\n",
       "      <td>0</td>\n",
       "      <td>0</td>\n",
       "      <td>0</td>\n",
       "      <td>T2TwinB</td>\n",
       "      <td>Green</td>\n",
       "    </tr>\n",
       "    <tr>\n",
       "      <th>1</th>\n",
       "      <td>3377</td>\n",
       "      <td>2019-01-01 00:00:11.0000000</td>\n",
       "      <td>10</td>\n",
       "      <td>7</td>\n",
       "      <td>8</td>\n",
       "      <td>0</td>\n",
       "      <td>3000</td>\n",
       "      <td>255</td>\n",
       "      <td>74</td>\n",
       "      <td>5</td>\n",
       "      <td>2893</td>\n",
       "      <td>30</td>\n",
       "      <td>150</td>\n",
       "      <td>400</td>\n",
       "      <td>400</td>\n",
       "      <td>3376</td>\n",
       "      <td>10</td>\n",
       "      <td>1</td>\n",
       "      <td>H2</td>\n",
       "      <td>Green</td>\n",
       "    </tr>\n",
       "    <tr>\n",
       "      <th>2</th>\n",
       "      <td>3773</td>\n",
       "      <td>2019-01-01 00:00:41.0000000</td>\n",
       "      <td>10</td>\n",
       "      <td>758</td>\n",
       "      <td>696</td>\n",
       "      <td>0</td>\n",
       "      <td>2980</td>\n",
       "      <td>255</td>\n",
       "      <td>82</td>\n",
       "      <td>5</td>\n",
       "      <td>2816</td>\n",
       "      <td>30</td>\n",
       "      <td>150</td>\n",
       "      <td>400</td>\n",
       "      <td>400</td>\n",
       "      <td>3767</td>\n",
       "      <td>10</td>\n",
       "      <td>1</td>\n",
       "      <td>H2</td>\n",
       "      <td>Green</td>\n",
       "    </tr>\n",
       "  </tbody>\n",
       "</table>\n",
       "</div>"
      ],
      "text/plain": [
       "   scu_id                    timestamp  ...  dispenser_type  scuStatus\n",
       "0    9617  2019-01-01 00:00:01.0000000  ...         T2TwinB      Green\n",
       "1    3377  2019-01-01 00:00:11.0000000  ...              H2      Green\n",
       "2    3773  2019-01-01 00:00:41.0000000  ...              H2      Green\n",
       "\n",
       "[3 rows x 20 columns]"
      ]
     },
     "execution_count": 151,
     "metadata": {
      "tags": []
     },
     "output_type": "execute_result"
    }
   ],
   "source": [
    "scu_log.head(3)"
   ]
  },
  {
   "cell_type": "markdown",
   "metadata": {
    "id": "V2WzyAhfPpxZ"
   },
   "source": [
    "Dispensers' level of full is evaluated under column **scuStatus**, with class 'Green' as full, 'yellow' as moderate, and 'red' as drained. We started with counting, for each dispenser, the number of times each types of signal is generated daily."
   ]
  },
  {
   "cell_type": "code",
   "execution_count": null,
   "metadata": {
    "id": "_Emy2MkePnGO"
   },
   "outputs": [],
   "source": [
    "# Transform timestamp from type string to type datetime\n",
    "scu_log_new = pd.get_dummies(scu_log, columns = [\"scuStatus\"])\n",
    "scu_log_new[\"timestamp\"] = pd.to_datetime(scu_log_new[\"timestamp\"])\n",
    "\n",
    "# Extract date\n",
    "scu_log_new[\"date\"] = scu_log_new[\"timestamp\"].dt.date"
   ]
  },
  {
   "cell_type": "code",
   "execution_count": null,
   "metadata": {
    "colab": {
     "base_uri": "https://localhost:8080/",
     "height": 437
    },
    "id": "QK9yYIinPohn",
    "outputId": "383fd434-c9b7-4220-c5a8-5a422c87c826"
   },
   "outputs": [
    {
     "data": {
      "text/html": [
       "<div>\n",
       "<style scoped>\n",
       "    .dataframe tbody tr th:only-of-type {\n",
       "        vertical-align: middle;\n",
       "    }\n",
       "\n",
       "    .dataframe tbody tr th {\n",
       "        vertical-align: top;\n",
       "    }\n",
       "\n",
       "    .dataframe thead th {\n",
       "        text-align: right;\n",
       "    }\n",
       "</style>\n",
       "<table border=\"1\" class=\"dataframe\">\n",
       "  <thead>\n",
       "    <tr style=\"text-align: right;\">\n",
       "      <th></th>\n",
       "      <th></th>\n",
       "      <th>scuStatus_Red</th>\n",
       "      <th>scuStatus_Green</th>\n",
       "      <th>scuStatus_Yellow</th>\n",
       "      <th>timestamp</th>\n",
       "    </tr>\n",
       "    <tr>\n",
       "      <th>DispenserId</th>\n",
       "      <th>date</th>\n",
       "      <th></th>\n",
       "      <th></th>\n",
       "      <th></th>\n",
       "      <th></th>\n",
       "    </tr>\n",
       "  </thead>\n",
       "  <tbody>\n",
       "    <tr>\n",
       "      <th rowspan=\"5\" valign=\"top\">287</th>\n",
       "      <th>2019-01-01</th>\n",
       "      <td>1</td>\n",
       "      <td>3.0</td>\n",
       "      <td>0</td>\n",
       "      <td>4</td>\n",
       "    </tr>\n",
       "    <tr>\n",
       "      <th>2019-01-02</th>\n",
       "      <td>0</td>\n",
       "      <td>3.0</td>\n",
       "      <td>0</td>\n",
       "      <td>3</td>\n",
       "    </tr>\n",
       "    <tr>\n",
       "      <th>2019-01-03</th>\n",
       "      <td>0</td>\n",
       "      <td>6.0</td>\n",
       "      <td>0</td>\n",
       "      <td>6</td>\n",
       "    </tr>\n",
       "    <tr>\n",
       "      <th>2019-01-04</th>\n",
       "      <td>0</td>\n",
       "      <td>2.0</td>\n",
       "      <td>0</td>\n",
       "      <td>2</td>\n",
       "    </tr>\n",
       "    <tr>\n",
       "      <th>2019-01-05</th>\n",
       "      <td>0</td>\n",
       "      <td>4.0</td>\n",
       "      <td>1</td>\n",
       "      <td>5</td>\n",
       "    </tr>\n",
       "    <tr>\n",
       "      <th>...</th>\n",
       "      <th>...</th>\n",
       "      <td>...</td>\n",
       "      <td>...</td>\n",
       "      <td>...</td>\n",
       "      <td>...</td>\n",
       "    </tr>\n",
       "    <tr>\n",
       "      <th rowspan=\"5\" valign=\"top\">52247</th>\n",
       "      <th>2019-06-05</th>\n",
       "      <td>0</td>\n",
       "      <td>6.0</td>\n",
       "      <td>0</td>\n",
       "      <td>6</td>\n",
       "    </tr>\n",
       "    <tr>\n",
       "      <th>2019-06-06</th>\n",
       "      <td>0</td>\n",
       "      <td>3.0</td>\n",
       "      <td>0</td>\n",
       "      <td>3</td>\n",
       "    </tr>\n",
       "    <tr>\n",
       "      <th>2019-06-07</th>\n",
       "      <td>0</td>\n",
       "      <td>3.0</td>\n",
       "      <td>0</td>\n",
       "      <td>3</td>\n",
       "    </tr>\n",
       "    <tr>\n",
       "      <th>2019-06-08</th>\n",
       "      <td>0</td>\n",
       "      <td>3.0</td>\n",
       "      <td>0</td>\n",
       "      <td>3</td>\n",
       "    </tr>\n",
       "    <tr>\n",
       "      <th>2019-06-09</th>\n",
       "      <td>0</td>\n",
       "      <td>3.0</td>\n",
       "      <td>0</td>\n",
       "      <td>3</td>\n",
       "    </tr>\n",
       "  </tbody>\n",
       "</table>\n",
       "<p>610545 rows × 4 columns</p>\n",
       "</div>"
      ],
      "text/plain": [
       "                        scuStatus_Red  ...  timestamp\n",
       "DispenserId date                       ...           \n",
       "287         2019-01-01              1  ...          4\n",
       "            2019-01-02              0  ...          3\n",
       "            2019-01-03              0  ...          6\n",
       "            2019-01-04              0  ...          2\n",
       "            2019-01-05              0  ...          5\n",
       "...                               ...  ...        ...\n",
       "52247       2019-06-05              0  ...          6\n",
       "            2019-06-06              0  ...          3\n",
       "            2019-06-07              0  ...          3\n",
       "            2019-06-08              0  ...          3\n",
       "            2019-06-09              0  ...          3\n",
       "\n",
       "[610545 rows x 4 columns]"
      ]
     },
     "execution_count": 153,
     "metadata": {
      "tags": []
     },
     "output_type": "execute_result"
    }
   ],
   "source": [
    "scu_log_temp = scu_log_new.groupby([\"DispenserId\", \"date\"]).agg({\"scuStatus_Red\": sum, \"scuStatus_Green\": sum, \"scuStatus_Yellow\": sum, \"timestamp\": \"count\"})\n",
    "scu_log_temp"
   ]
  },
  {
   "cell_type": "code",
   "execution_count": null,
   "metadata": {
    "colab": {
     "base_uri": "https://localhost:8080/"
    },
    "id": "TEoOa_4SRRsG",
    "outputId": "a45ad3e1-7bb6-43cb-cb2b-bd0fe104e53a"
   },
   "outputs": [
    {
     "name": "stdout",
     "output_type": "stream",
     "text": [
      "       scuStatus_Red  scuStatus_Green  scuStatus_Yellow      timestamp\n",
      "count  610545.000000    610545.000000     610545.000000  610545.000000\n",
      "mean        0.373928         3.232677          0.102978       3.871644\n",
      "std         1.469326         7.642086          0.862567       8.019548\n",
      "min         0.000000         0.000000          0.000000       1.000000\n",
      "25%         0.000000         1.000000          0.000000       1.000000\n",
      "50%         0.000000         2.000000          0.000000       2.000000\n",
      "75%         0.000000         3.000000          0.000000       4.000000\n",
      "90%         1.000000         6.000000          0.000000       8.000000\n",
      "95%         2.000000        10.000000          0.000000      13.000000\n",
      "99%         5.000000        31.000000          2.000000      34.000000\n",
      "max       152.000000       360.000000         60.000000     361.000000\n"
     ]
    }
   ],
   "source": [
    "print(scu_log_temp.describe(percentiles = [0.25, 0.5, 0.75, 0.9, 0.95, 0.99]))"
   ]
  },
  {
   "cell_type": "markdown",
   "metadata": {
    "id": "WlbQZxi4SHWp"
   },
   "source": [
    "Notice that status **Green** is generated most frequently, on average 3 times daily,  whereas **Red** and **Yellow** are generated about 1 times per day. However, signal **Red** does have outliers above 90 percentiles that are activated more than 2 times per day, which implies unusually frequent refillment needs.\n",
    "\n",
    "We thus retrieved entries with 'red' under **scuStatus** to find a sensor's refill interval."
   ]
  },
  {
   "cell_type": "markdown",
   "metadata": {
    "id": "cUt3H6rEpkkw"
   },
   "source": [
    "## Highlight 8: Find Dispensers' Refillment Interval <a class=\"anchor\" id=\"S2.8\"></a>\n",
    "Since we already know the dispenser refill signal will turn red if a refill is needed, we could find the average interval for those dispensers, which could help us to gain an insight on how quick does dispensers are refilled by cleaning staff after a signal is sent."
   ]
  },
  {
   "cell_type": "code",
   "execution_count": null,
   "metadata": {
    "id": "e3vzN5OORWm8"
   },
   "outputs": [],
   "source": [
    "red_scu = scu_log[scu_log['scuStatus']=='Red']\n",
    "red_scu.sort_values(['scu_id','timestamp'], inplace=True)\n",
    "\n",
    "red_scu['timestamp'] = pd.to_datetime(red_scu.timestamp)\n",
    "red_scu['red_interval'] = red_scu.timestamp.diff()\n",
    "\n",
    "# Adjust boundaries\n",
    "mask = red_scu.scu_id != red_scu.scu_id.shift(1)\n",
    "red_scu['red_interval'][mask] = np.nan\n",
    "\n",
    "# Normalize unit to minute\n",
    "red_scu.red_interval = red_scu.red_interval.dt.seconds/60.0"
   ]
  },
  {
   "cell_type": "code",
   "execution_count": null,
   "metadata": {
    "id": "hwYpC9_vTJpa"
   },
   "outputs": [],
   "source": [
    "# Average interval between red signals per location\n",
    "avg_red = red_scu.groupby(['scu_id','DispenserId']).red_interval.mean().reset_index(name = 'avg_interval').sort_values('avg_interval')"
   ]
  },
  {
   "cell_type": "markdown",
   "metadata": {
    "id": "z54jpAh9p398"
   },
   "source": [
    "### Data Integrity: Duplicated Signals <a class=\"anchor\" id=\"S2.8.1\"></a>"
   ]
  },
  {
   "cell_type": "markdown",
   "metadata": {
    "id": "HyU1Yd9sTpSR"
   },
   "source": [
    "We notice one problem with given data is that a signal may be sent out repeatively at the same timestamp. In other words, when a dispenser is low on product and need a refill, it will constantly sending multiple red signal for a refill request, which means several request are regarding same dispenser at the same time. For example:"
   ]
  },
  {
   "cell_type": "code",
   "execution_count": null,
   "metadata": {
    "colab": {
     "base_uri": "https://localhost:8080/",
     "height": 137
    },
    "id": "pa5liiwVTanP",
    "outputId": "f4ca9bbf-4bde-4f03-d91a-82d2a3bf9cdd"
   },
   "outputs": [
    {
     "data": {
      "text/html": [
       "<div>\n",
       "<style scoped>\n",
       "    .dataframe tbody tr th:only-of-type {\n",
       "        vertical-align: middle;\n",
       "    }\n",
       "\n",
       "    .dataframe tbody tr th {\n",
       "        vertical-align: top;\n",
       "    }\n",
       "\n",
       "    .dataframe thead th {\n",
       "        text-align: right;\n",
       "    }\n",
       "</style>\n",
       "<table border=\"1\" class=\"dataframe\">\n",
       "  <thead>\n",
       "    <tr style=\"text-align: right;\">\n",
       "      <th></th>\n",
       "      <th>timestamp</th>\n",
       "      <th>scuStatus</th>\n",
       "      <th>red_interval</th>\n",
       "    </tr>\n",
       "  </thead>\n",
       "  <tbody>\n",
       "    <tr>\n",
       "      <th>354737</th>\n",
       "      <td>2019-01-28 17:02:17</td>\n",
       "      <td>Red</td>\n",
       "      <td>NaN</td>\n",
       "    </tr>\n",
       "    <tr>\n",
       "      <th>354738</th>\n",
       "      <td>2019-01-28 17:02:17</td>\n",
       "      <td>Red</td>\n",
       "      <td>0.0</td>\n",
       "    </tr>\n",
       "    <tr>\n",
       "      <th>354739</th>\n",
       "      <td>2019-01-28 17:02:17</td>\n",
       "      <td>Red</td>\n",
       "      <td>0.0</td>\n",
       "    </tr>\n",
       "  </tbody>\n",
       "</table>\n",
       "</div>"
      ],
      "text/plain": [
       "                 timestamp scuStatus  red_interval\n",
       "354737 2019-01-28 17:02:17       Red           NaN\n",
       "354738 2019-01-28 17:02:17       Red           0.0\n",
       "354739 2019-01-28 17:02:17       Red           0.0"
      ]
     },
     "execution_count": 157,
     "metadata": {
      "tags": []
     },
     "output_type": "execute_result"
    }
   ],
   "source": [
    "red_scu[red_scu['scu_id']==38603][['timestamp', 'scuStatus', 'red_interval']]"
   ]
  },
  {
   "cell_type": "code",
   "execution_count": null,
   "metadata": {
    "colab": {
     "base_uri": "https://localhost:8080/",
     "height": 407
    },
    "id": "j7fqajuMT-GU",
    "outputId": "6a1f2700-a662-4187-e09b-cc1c0ba3dd93"
   },
   "outputs": [
    {
     "data": {
      "text/html": [
       "<div>\n",
       "<style scoped>\n",
       "    .dataframe tbody tr th:only-of-type {\n",
       "        vertical-align: middle;\n",
       "    }\n",
       "\n",
       "    .dataframe tbody tr th {\n",
       "        vertical-align: top;\n",
       "    }\n",
       "\n",
       "    .dataframe thead th {\n",
       "        text-align: right;\n",
       "    }\n",
       "</style>\n",
       "<table border=\"1\" class=\"dataframe\">\n",
       "  <thead>\n",
       "    <tr style=\"text-align: right;\">\n",
       "      <th></th>\n",
       "      <th>scu_id</th>\n",
       "      <th>timestamp</th>\n",
       "      <th>count_duplicate</th>\n",
       "    </tr>\n",
       "  </thead>\n",
       "  <tbody>\n",
       "    <tr>\n",
       "      <th>29566</th>\n",
       "      <td>13201</td>\n",
       "      <td>2019-02-03 21:40:13</td>\n",
       "      <td>6</td>\n",
       "    </tr>\n",
       "    <tr>\n",
       "      <th>29573</th>\n",
       "      <td>13201</td>\n",
       "      <td>2019-02-11 10:04:07</td>\n",
       "      <td>6</td>\n",
       "    </tr>\n",
       "    <tr>\n",
       "      <th>56491</th>\n",
       "      <td>43858</td>\n",
       "      <td>2019-01-09 23:12:37</td>\n",
       "      <td>6</td>\n",
       "    </tr>\n",
       "    <tr>\n",
       "      <th>51665</th>\n",
       "      <td>39057</td>\n",
       "      <td>2019-03-15 18:07:21</td>\n",
       "      <td>6</td>\n",
       "    </tr>\n",
       "    <tr>\n",
       "      <th>51666</th>\n",
       "      <td>39057</td>\n",
       "      <td>2019-03-16 00:19:56</td>\n",
       "      <td>6</td>\n",
       "    </tr>\n",
       "    <tr>\n",
       "      <th>...</th>\n",
       "      <td>...</td>\n",
       "      <td>...</td>\n",
       "      <td>...</td>\n",
       "    </tr>\n",
       "    <tr>\n",
       "      <th>20672</th>\n",
       "      <td>12966</td>\n",
       "      <td>2019-01-26 00:16:38</td>\n",
       "      <td>1</td>\n",
       "    </tr>\n",
       "    <tr>\n",
       "      <th>20673</th>\n",
       "      <td>12966</td>\n",
       "      <td>2019-01-27 00:16:37</td>\n",
       "      <td>1</td>\n",
       "    </tr>\n",
       "    <tr>\n",
       "      <th>20674</th>\n",
       "      <td>12966</td>\n",
       "      <td>2019-01-27 06:28:37</td>\n",
       "      <td>1</td>\n",
       "    </tr>\n",
       "    <tr>\n",
       "      <th>20675</th>\n",
       "      <td>12966</td>\n",
       "      <td>2019-01-28 06:28:35</td>\n",
       "      <td>1</td>\n",
       "    </tr>\n",
       "    <tr>\n",
       "      <th>58458</th>\n",
       "      <td>61789</td>\n",
       "      <td>2019-05-19 20:41:03</td>\n",
       "      <td>1</td>\n",
       "    </tr>\n",
       "  </tbody>\n",
       "</table>\n",
       "<p>58459 rows × 3 columns</p>\n",
       "</div>"
      ],
      "text/plain": [
       "       scu_id           timestamp  count_duplicate\n",
       "29566   13201 2019-02-03 21:40:13                6\n",
       "29573   13201 2019-02-11 10:04:07                6\n",
       "56491   43858 2019-01-09 23:12:37                6\n",
       "51665   39057 2019-03-15 18:07:21                6\n",
       "51666   39057 2019-03-16 00:19:56                6\n",
       "...       ...                 ...              ...\n",
       "20672   12966 2019-01-26 00:16:38                1\n",
       "20673   12966 2019-01-27 00:16:37                1\n",
       "20674   12966 2019-01-27 06:28:37                1\n",
       "20675   12966 2019-01-28 06:28:35                1\n",
       "58458   61789 2019-05-19 20:41:03                1\n",
       "\n",
       "[58459 rows x 3 columns]"
      ]
     },
     "execution_count": 158,
     "metadata": {
      "tags": []
     },
     "output_type": "execute_result"
    }
   ],
   "source": [
    "# Find number of times each sensor repeatively send 'red' within 1 minute\n",
    "red_scu[red_scu.red_interval<=1].groupby(['scu_id','timestamp']).count()['red_interval'].reset_index(name='count_duplicate').sort_values('count_duplicate', ascending=False)"
   ]
  },
  {
   "cell_type": "markdown",
   "metadata": {
    "id": "Edx7Bn3LtPhR"
   },
   "source": [
    "---"
   ]
  },
  {
   "cell_type": "markdown",
   "metadata": {
    "id": "5XBmweGxUQu0"
   },
   "source": [
    "To remove these duplicated signals, we set threshold for 2 distinct signals to be 1 hour. Only signals that are separated into 1 hour above are consider two different refill request."
   ]
  },
  {
   "cell_type": "code",
   "execution_count": null,
   "metadata": {
    "id": "MsJHLSpuUPct"
   },
   "outputs": [],
   "source": [
    "red_scu_distinct = red_scu[red_scu.red_interval>60].drop_duplicates()"
   ]
  },
  {
   "cell_type": "code",
   "execution_count": null,
   "metadata": {
    "colab": {
     "base_uri": "https://localhost:8080/",
     "height": 257
    },
    "id": "h9A0o2JExITc",
    "outputId": "0e1dbee6-fd1f-4257-b6e0-71e959e83040"
   },
   "outputs": [
    {
     "data": {
      "text/html": [
       "<div>\n",
       "<style scoped>\n",
       "    .dataframe tbody tr th:only-of-type {\n",
       "        vertical-align: middle;\n",
       "    }\n",
       "\n",
       "    .dataframe tbody tr th {\n",
       "        vertical-align: top;\n",
       "    }\n",
       "\n",
       "    .dataframe thead th {\n",
       "        text-align: right;\n",
       "    }\n",
       "</style>\n",
       "<table border=\"1\" class=\"dataframe\">\n",
       "  <thead>\n",
       "    <tr style=\"text-align: right;\">\n",
       "      <th></th>\n",
       "      <th>scu_id</th>\n",
       "      <th>timestamp</th>\n",
       "      <th>manufacture_year</th>\n",
       "      <th>sensor1</th>\n",
       "      <th>sensor2</th>\n",
       "      <th>gen_counter</th>\n",
       "      <th>batterylevel</th>\n",
       "      <th>signal_quality</th>\n",
       "      <th>signal_strength</th>\n",
       "      <th>software_version</th>\n",
       "      <th>DispenserId</th>\n",
       "      <th>intervall</th>\n",
       "      <th>empty_level</th>\n",
       "      <th>full_level</th>\n",
       "      <th>hysteresis</th>\n",
       "      <th>linked_scu_id</th>\n",
       "      <th>linked_scu_manufacture_year</th>\n",
       "      <th>link_pos</th>\n",
       "      <th>dispenser_type</th>\n",
       "      <th>scuStatus</th>\n",
       "      <th>red_interval</th>\n",
       "    </tr>\n",
       "  </thead>\n",
       "  <tbody>\n",
       "    <tr>\n",
       "      <th>1625377</th>\n",
       "      <td>2</td>\n",
       "      <td>2019-04-29 08:08:18</td>\n",
       "      <td>11</td>\n",
       "      <td>531</td>\n",
       "      <td>531</td>\n",
       "      <td>0</td>\n",
       "      <td>3520</td>\n",
       "      <td>255</td>\n",
       "      <td>61</td>\n",
       "      <td>23</td>\n",
       "      <td>8960</td>\n",
       "      <td>30</td>\n",
       "      <td>330</td>\n",
       "      <td>330</td>\n",
       "      <td>50</td>\n",
       "      <td>0</td>\n",
       "      <td>0</td>\n",
       "      <td>0</td>\n",
       "      <td>B1</td>\n",
       "      <td>Red</td>\n",
       "      <td>1097.000000</td>\n",
       "    </tr>\n",
       "    <tr>\n",
       "      <th>1628039</th>\n",
       "      <td>2</td>\n",
       "      <td>2019-04-29 11:20:18</td>\n",
       "      <td>11</td>\n",
       "      <td>660</td>\n",
       "      <td>660</td>\n",
       "      <td>0</td>\n",
       "      <td>3510</td>\n",
       "      <td>255</td>\n",
       "      <td>58</td>\n",
       "      <td>23</td>\n",
       "      <td>8960</td>\n",
       "      <td>30</td>\n",
       "      <td>330</td>\n",
       "      <td>330</td>\n",
       "      <td>50</td>\n",
       "      <td>0</td>\n",
       "      <td>0</td>\n",
       "      <td>0</td>\n",
       "      <td>B1</td>\n",
       "      <td>Red</td>\n",
       "      <td>104.000000</td>\n",
       "    </tr>\n",
       "    <tr>\n",
       "      <th>1644319</th>\n",
       "      <td>2</td>\n",
       "      <td>2019-04-30 14:12:20</td>\n",
       "      <td>11</td>\n",
       "      <td>660</td>\n",
       "      <td>660</td>\n",
       "      <td>0</td>\n",
       "      <td>3510</td>\n",
       "      <td>255</td>\n",
       "      <td>58</td>\n",
       "      <td>23</td>\n",
       "      <td>8960</td>\n",
       "      <td>30</td>\n",
       "      <td>330</td>\n",
       "      <td>330</td>\n",
       "      <td>50</td>\n",
       "      <td>0</td>\n",
       "      <td>0</td>\n",
       "      <td>0</td>\n",
       "      <td>B1</td>\n",
       "      <td>Red</td>\n",
       "      <td>80.033333</td>\n",
       "    </tr>\n",
       "  </tbody>\n",
       "</table>\n",
       "</div>"
      ],
      "text/plain": [
       "         scu_id           timestamp  ...  scuStatus  red_interval\n",
       "1625377       2 2019-04-29 08:08:18  ...        Red   1097.000000\n",
       "1628039       2 2019-04-29 11:20:18  ...        Red    104.000000\n",
       "1644319       2 2019-04-30 14:12:20  ...        Red     80.033333\n",
       "\n",
       "[3 rows x 21 columns]"
      ]
     },
     "execution_count": 160,
     "metadata": {
      "tags": []
     },
     "output_type": "execute_result"
    }
   ],
   "source": [
    "red_scu_distinct.head(3)"
   ]
  },
  {
   "cell_type": "code",
   "execution_count": null,
   "metadata": {
    "colab": {
     "base_uri": "https://localhost:8080/",
     "height": 529
    },
    "id": "HOFvlFJIWmhH",
    "outputId": "dd88d406-fc91-42ca-efd4-990e56490d42"
   },
   "outputs": [
    {
     "data": {
      "image/png": "[encoded data removed]",
      "text/plain": [
       "<Figure size 432x288 with 1 Axes>"
      ]
     },
     "metadata": {
      "needs_background": "light",
      "tags": []
     },
     "output_type": "display_data"
    },
    {
     "name": "stdout",
     "output_type": "stream",
     "text": [
      "                  timestamp  red_interval  scu_id\n",
      "608312  2019-02-17 00:31:27   1439.983333   28054\n",
      "1445624 2019-04-15 22:48:19   1439.983333    3495\n",
      "1260490 2019-04-03 19:16:21   1439.983333    3495\n",
      "1275747 2019-04-04 19:16:20   1439.983333    3495\n",
      "1340200 2019-04-09 19:16:20   1439.983333    3495\n",
      "...                     ...           ...     ...\n",
      "1423031 2019-04-14 15:20:45     60.016667   19438\n",
      "2054517 2019-05-24 17:00:41     60.016667   13173\n",
      "2089015 2019-05-26 13:07:20     60.016667   13173\n",
      "813800  2019-03-03 10:43:35     60.016667   34495\n",
      "1757060 2019-05-08 09:26:26     60.016667   43763\n",
      "\n",
      "[109218 rows x 3 columns]\n"
     ]
    }
   ],
   "source": [
    "sns.distplot(red_scu_distinct.red_interval)\n",
    "plt.title('Distribution of Red Signal Interval')\n",
    "plt.show()\n",
    "\n",
    "print(red_scu_distinct.sort_values('red_interval', ascending=False)[['timestamp','red_interval','scu_id']])"
   ]
  },
  {
   "cell_type": "markdown",
   "metadata": {
    "id": "LOxi0ABIXXut"
   },
   "source": [
    "This distribution plot has 2 bumps. A large number of red signals are sent within the period of 2 hours or around 1 day. Which indicates an approximate 2-hour and 24-hour average depletion window for most dispnesers recorded. \\\\\n",
    "\n",
    "Statistically, most dispenser would need daily refill routine while some of them might need a higher maintenance frequency to keep them providing service.\n",
    "\n",
    "We then join *scu_log* with traffic count per location."
   ]
  },
  {
   "cell_type": "code",
   "execution_count": null,
   "metadata": {
    "id": "apj-m6A6WotA"
   },
   "outputs": [],
   "source": [
    "query_scu_location = \"\"\"\n",
    "  WITH loc AS(\n",
    "    SELECT DispenserId, LocationId, Quality\n",
    "    FROM dispensers D LEFT JOIN refillassotment R ON D.DispenserType=R.DispenserType\n",
    "  )\n",
    "  SELECT \n",
    "    RS.DispenserId, L.LocationId, avg_interval,\n",
    "     SiteId, Quality, locationDensity, NodeLevel\n",
    "  FROM loc L LEFT JOIN avg_red RS  ON L.DispenserId=RS.DispenserId\n",
    "       JOIN people_loc PL ON PL.LocationId = L.LocationId\n",
    "\"\"\"\n",
    "\n",
    "query_daily_scu = \"\"\"\n",
    "  SELECT DispenserId, TD.LocationId, avg_interval,\n",
    "  avg_daily, SiteId, Quality, NotEnoughDispenser, count, locationDensity, Nodelevel\n",
    "  FROM traffic_vs_dispenser TD LEFT JOIN scu_location SL ON TD.LocationId=SL.locationId\n",
    "\"\"\"\n",
    "\n",
    "scu_location = ps.sqldf(query_scu_location, locals())\n",
    "scu_traffic = ps.sqldf(query_daily_scu, locals())\n",
    "\n",
    "scu_traffic.drop_duplicates(inplace=True)"
   ]
  },
  {
   "cell_type": "code",
   "execution_count": null,
   "metadata": {
    "colab": {
     "base_uri": "https://localhost:8080/",
     "height": 296
    },
    "id": "Yu2lTtoGZC_J",
    "outputId": "1b490169-eced-46c9-ca5c-6e267013b128"
   },
   "outputs": [
    {
     "data": {
      "image/png": "[encoded data removed]",
      "text/plain": [
       "<Figure size 432x288 with 1 Axes>"
      ]
     },
     "metadata": {
      "needs_background": "light",
      "tags": []
     },
     "output_type": "display_data"
    }
   ],
   "source": [
    "sns.distplot(scu_traffic.groupby('LocationId').avg_interval.mean(), bins=50)\n",
    "plt.title('Distribution of Average Red Signal Interval per Location')\n",
    "plt.show()"
   ]
  },
  {
   "cell_type": "markdown",
   "metadata": {
    "id": "eGYCkLWQZIXu"
   },
   "source": [
    "Since the above graph representing the average interval in of dispenser refill signal of each location, the average value is easily influenced by the extreme value like the 24-hour depletion cycle we discussed in the previous graph. \\\\\n",
    "Once thing worth noting is that, not all locations with a *vru_log* have *scu_log* recorded. Some data was lost after the join operation.\n",
    "\n",
    "### Outlier Detection: Find Insufficient Dispensers via Refillment Interval <a class=\"anchor\" id=\"S2.8.2\"></a>\n",
    "\n",
    "In order to find locations with insufficient dispenser supply, we are interested in locations in the right tail of the distribution plot above."
   ]
  },
  {
   "cell_type": "code",
   "execution_count": null,
   "metadata": {
    "colab": {
     "base_uri": "https://localhost:8080/",
     "height": 372
    },
    "id": "JjLmTrMlZEV8",
    "outputId": "0333cbd0-f961-4132-936d-389998e0c27f"
   },
   "outputs": [
    {
     "data": {
      "image/png": "[encoded data removed]",
      "text/plain": [
       "<Figure size 1152x432 with 1 Axes>"
      ]
     },
     "metadata": {
      "needs_background": "light",
      "tags": []
     },
     "output_type": "display_data"
    }
   ],
   "source": [
    "scu_traffic['LocationId'] = scu_traffic['LocationId'] .astype('category')\n",
    "\n",
    "scu_traffic_temp = scu_traffic.dropna(subset=['avg_interval','avg_daily'], axis=0)\n",
    "plt.figure(figsize=(16,6))\n",
    "sns.scatterplot(x='avg_daily', y='avg_interval', data=scu_traffic_temp, hue='LocationId', c=5, legend=False, palette='rainbow')\n",
    "plt.title(\"Number of Visitors Daily VS. Red Signal Interval (Grouped by Location)\")\n",
    "plt.show()"
   ]
  },
  {
   "cell_type": "code",
   "execution_count": null,
   "metadata": {
    "colab": {
     "base_uri": "https://localhost:8080/",
     "height": 372
    },
    "id": "VFvMW6azZg7n",
    "outputId": "97b1a3f8-fb9c-4970-fb3e-cd1cea5c6648"
   },
   "outputs": [
    {
     "data": {
      "image/png": "[encoded data removed]",
      "text/plain": [
       "<Figure size 1152x432 with 1 Axes>"
      ]
     },
     "metadata": {
      "needs_background": "light",
      "tags": []
     },
     "output_type": "display_data"
    }
   ],
   "source": [
    "plt.figure(figsize=(16,6))\n",
    "sns.scatterplot(x='avg_daily', y='avg_interval', hue='SiteId', data=scu_traffic, c=5, palette=PALETTE)\n",
    "plt.title(\"Number of Visitors Daily VS. Red Signal Interval (Grouped by Site)\")\n",
    "plt.show()"
   ]
  },
  {
   "cell_type": "markdown",
   "metadata": {
    "id": "r47I1T5a3vk9"
   },
   "source": [
    "We define a new metric to analyze if dispensers are suffice:\n",
    "\n",
    "<center>$\\frac{Average Daily Visitor}{Average Refillment Interval}$</center>\n",
    "\n",
    "A larger value implies high traffic, high refillment frequency, or both, indicating urgent for more dispensers to supply the higher need in those location for providing services.\n",
    "\n",
    "Again, we used interquantile range to find locations with such needs."
   ]
  },
  {
   "cell_type": "code",
   "execution_count": null,
   "metadata": {
    "id": "s6QVRLsH3tDh"
   },
   "outputs": [],
   "source": [
    "scu_traffic['Visitor_Interval_ratio'] = scu_traffic.avg_daily/scu_traffic.avg_interval\n",
    "Q1 = scu_traffic.Visitor_Interval_ratio.quantile(0.25)\n",
    "Q3 = scu_traffic.Visitor_Interval_ratio.quantile(0.75)\n",
    "IQR = Q3-Q1 "
   ]
  },
  {
   "cell_type": "code",
   "execution_count": null,
   "metadata": {
    "colab": {
     "base_uri": "https://localhost:8080/",
     "height": 297
    },
    "id": "FwGSQOqtPx6q",
    "outputId": "2633e1a0-0c8c-44cb-a507-336678dbf226"
   },
   "outputs": [
    {
     "data": {
      "text/plain": [
       "<matplotlib.axes._subplots.AxesSubplot at 0x7f29cbf3f668>"
      ]
     },
     "execution_count": 167,
     "metadata": {
      "tags": []
     },
     "output_type": "execute_result"
    },
    {
     "data": {
      "image/png": "[encoded data removed]",
      "text/plain": [
       "<Figure size 432x288 with 1 Axes>"
      ]
     },
     "metadata": {
      "needs_background": "light",
      "tags": []
     },
     "output_type": "display_data"
    }
   ],
   "source": [
    "sns.boxplot(scu_traffic.Visitor_Interval_ratio)"
   ]
  },
  {
   "cell_type": "code",
   "execution_count": null,
   "metadata": {
    "id": "tjjEDaZN5A_G"
   },
   "outputs": [],
   "source": [
    "def frequent_dispenser(row):\n",
    "  if row>Q3+1.5*IQR:\n",
    "    return 1 \n",
    "  return 0 \n",
    "scu_traffic['FrequentRefill'] = scu_traffic.Visitor_Interval_ratio.apply(frequent_dispenser)"
   ]
  },
  {
   "cell_type": "code",
   "execution_count": null,
   "metadata": {
    "colab": {
     "base_uri": "https://localhost:8080/"
    },
    "id": "l5p1WK325RXL",
    "outputId": "3147ac55-9833-4280-e5fa-d1ffbb947163"
   },
   "outputs": [
    {
     "data": {
      "text/plain": [
       "0    1852\n",
       "1      68\n",
       "Name: FrequentRefill, dtype: int64"
      ]
     },
     "execution_count": 169,
     "metadata": {
      "tags": []
     },
     "output_type": "execute_result"
    }
   ],
   "source": [
    "scu_traffic.FrequentRefill.value_counts()"
   ]
  },
  {
   "cell_type": "markdown",
   "metadata": {
    "id": "DMBRYvH_teyV"
   },
   "source": [
    "---"
   ]
  },
  {
   "cell_type": "markdown",
   "metadata": {
    "id": "oNl6ewbItjVu"
   },
   "source": [
    "## Highlight 9: Impact of Product Quality on Refillment Frequency <a class=\"anchor\" id=\"S2.9\"></a>\n",
    "\n",
    "We also noticed that different spensers across the data are providing different quality of toilet paper. Therefore, we also dug into the relationship between product quality and the refill interval of certain dispenser."
   ]
  },
  {
   "cell_type": "code",
   "execution_count": null,
   "metadata": {
    "id": "iKFDhwkqruGg"
   },
   "outputs": [],
   "source": [
    "scu_location_new = scu_location.drop_duplicates()"
   ]
  },
  {
   "cell_type": "code",
   "execution_count": null,
   "metadata": {
    "colab": {
     "base_uri": "https://localhost:8080/",
     "height": 407
    },
    "id": "zuHX-s0HtnyS",
    "outputId": "c1c978a9-fc73-400a-c67d-8be7682854a9"
   },
   "outputs": [
    {
     "data": {
      "text/html": [
       "<div>\n",
       "<style scoped>\n",
       "    .dataframe tbody tr th:only-of-type {\n",
       "        vertical-align: middle;\n",
       "    }\n",
       "\n",
       "    .dataframe tbody tr th {\n",
       "        vertical-align: top;\n",
       "    }\n",
       "\n",
       "    .dataframe thead th {\n",
       "        text-align: right;\n",
       "    }\n",
       "</style>\n",
       "<table border=\"1\" class=\"dataframe\">\n",
       "  <thead>\n",
       "    <tr style=\"text-align: right;\">\n",
       "      <th></th>\n",
       "      <th>LocationId</th>\n",
       "      <th>Quality</th>\n",
       "      <th>count</th>\n",
       "      <th>totalCount</th>\n",
       "      <th>ratio</th>\n",
       "    </tr>\n",
       "  </thead>\n",
       "  <tbody>\n",
       "    <tr>\n",
       "      <th>0</th>\n",
       "      <td>233</td>\n",
       "      <td>Advanced</td>\n",
       "      <td>4</td>\n",
       "      <td>11</td>\n",
       "      <td>0.363636</td>\n",
       "    </tr>\n",
       "    <tr>\n",
       "      <th>1</th>\n",
       "      <td>233</td>\n",
       "      <td>Premium</td>\n",
       "      <td>4</td>\n",
       "      <td>11</td>\n",
       "      <td>0.363636</td>\n",
       "    </tr>\n",
       "    <tr>\n",
       "      <th>2</th>\n",
       "      <td>233</td>\n",
       "      <td>Universal</td>\n",
       "      <td>3</td>\n",
       "      <td>11</td>\n",
       "      <td>0.272727</td>\n",
       "    </tr>\n",
       "    <tr>\n",
       "      <th>3</th>\n",
       "      <td>234</td>\n",
       "      <td>Advanced</td>\n",
       "      <td>5</td>\n",
       "      <td>13</td>\n",
       "      <td>0.384615</td>\n",
       "    </tr>\n",
       "    <tr>\n",
       "      <th>4</th>\n",
       "      <td>234</td>\n",
       "      <td>Premium</td>\n",
       "      <td>5</td>\n",
       "      <td>13</td>\n",
       "      <td>0.384615</td>\n",
       "    </tr>\n",
       "    <tr>\n",
       "      <th>...</th>\n",
       "      <td>...</td>\n",
       "      <td>...</td>\n",
       "      <td>...</td>\n",
       "      <td>...</td>\n",
       "      <td>...</td>\n",
       "    </tr>\n",
       "    <tr>\n",
       "      <th>276</th>\n",
       "      <td>1201</td>\n",
       "      <td>Premium</td>\n",
       "      <td>1</td>\n",
       "      <td>3</td>\n",
       "      <td>0.333333</td>\n",
       "    </tr>\n",
       "    <tr>\n",
       "      <th>277</th>\n",
       "      <td>1201</td>\n",
       "      <td>Universal</td>\n",
       "      <td>1</td>\n",
       "      <td>3</td>\n",
       "      <td>0.333333</td>\n",
       "    </tr>\n",
       "    <tr>\n",
       "      <th>278</th>\n",
       "      <td>1202</td>\n",
       "      <td>Advanced</td>\n",
       "      <td>2</td>\n",
       "      <td>6</td>\n",
       "      <td>0.333333</td>\n",
       "    </tr>\n",
       "    <tr>\n",
       "      <th>279</th>\n",
       "      <td>1202</td>\n",
       "      <td>Premium</td>\n",
       "      <td>2</td>\n",
       "      <td>6</td>\n",
       "      <td>0.333333</td>\n",
       "    </tr>\n",
       "    <tr>\n",
       "      <th>280</th>\n",
       "      <td>1202</td>\n",
       "      <td>Universal</td>\n",
       "      <td>2</td>\n",
       "      <td>6</td>\n",
       "      <td>0.333333</td>\n",
       "    </tr>\n",
       "  </tbody>\n",
       "</table>\n",
       "<p>281 rows × 5 columns</p>\n",
       "</div>"
      ],
      "text/plain": [
       "     LocationId    Quality  count  totalCount     ratio\n",
       "0           233   Advanced      4          11  0.363636\n",
       "1           233    Premium      4          11  0.363636\n",
       "2           233  Universal      3          11  0.272727\n",
       "3           234   Advanced      5          13  0.384615\n",
       "4           234    Premium      5          13  0.384615\n",
       "..          ...        ...    ...         ...       ...\n",
       "276        1201    Premium      1           3  0.333333\n",
       "277        1201  Universal      1           3  0.333333\n",
       "278        1202   Advanced      2           6  0.333333\n",
       "279        1202    Premium      2           6  0.333333\n",
       "280        1202  Universal      2           6  0.333333\n",
       "\n",
       "[281 rows x 5 columns]"
      ]
     },
     "execution_count": 171,
     "metadata": {
      "tags": []
     },
     "output_type": "execute_result"
    }
   ],
   "source": [
    "# Find composition of products of different quality level per location\n",
    "scu_location_2 = scu_location_new.groupby([\"LocationId\",\"Quality\"])[\"SiteId\"].count().dropna().reset_index().rename(columns= {\"SiteId\": \"count\"}).merge(scu_location_new.groupby([\"LocationId\"])[\"SiteId\"].count().dropna().reset_index().rename(columns= {\"SiteId\": \"totalCount\"}), on = \"LocationId\")\n",
    "scu_location_2[\"ratio\"] = scu_location_2[\"count\"]/ scu_location_2[\"totalCount\"]\n",
    "scu_location_2"
   ]
  },
  {
   "cell_type": "code",
   "execution_count": null,
   "metadata": {
    "colab": {
     "base_uri": "https://localhost:8080/",
     "height": 279
    },
    "id": "fjV4WyTtvIYr",
    "outputId": "1943870c-2c08-41a0-dea6-aa3dadd11c09"
   },
   "outputs": [
    {
     "data": {
      "image/png": "[encoded data removed]",
      "text/plain": [
       "<Figure size 432x288 with 1 Axes>"
      ]
     },
     "metadata": {
      "needs_background": "light",
      "tags": []
     },
     "output_type": "display_data"
    }
   ],
   "source": [
    "sns.boxplot(x='Quality',y='ratio', data=scu_location_2)\n",
    "plt.show()"
   ]
  },
  {
   "cell_type": "markdown",
   "metadata": {
    "id": "iiDP3YMVuAov"
   },
   "source": [
    "Most existing clients adopt products of mixed qualities. The medium proportions of advanced and premium quality is slightly higher than universal quality.\n",
    "\n",
    "Then a question arise, is it possible to convince users replace more **Universal** level products with **Premium** or **Advanced** level products?"
   ]
  },
  {
   "cell_type": "code",
   "execution_count": null,
   "metadata": {
    "colab": {
     "base_uri": "https://localhost:8080/",
     "height": 295
    },
    "id": "D-KvaO9XdgDh",
    "outputId": "de03deaf-a894-42f5-fa25-e25852acaf03"
   },
   "outputs": [
    {
     "data": {
      "image/png": "[encoded data removed]",
      "text/plain": [
       "<Figure size 432x288 with 1 Axes>"
      ]
     },
     "metadata": {
      "needs_background": "light",
      "tags": []
     },
     "output_type": "display_data"
    }
   ],
   "source": [
    "sns.boxplot(x='Quality',y='avg_interval', data=scu_location_new)\n",
    "plt.title('Refillment Interval per Product Quality')\n",
    "plt.show()"
   ]
  },
  {
   "cell_type": "code",
   "execution_count": null,
   "metadata": {
    "colab": {
     "base_uri": "https://localhost:8080/",
     "height": 137
    },
    "id": "xRknd3iJtKDW",
    "outputId": "6bc062f7-d88e-488e-d9b3-e51402f7729d"
   },
   "outputs": [
    {
     "data": {
      "text/html": [
       "<div>\n",
       "<style scoped>\n",
       "    .dataframe tbody tr th:only-of-type {\n",
       "        vertical-align: middle;\n",
       "    }\n",
       "\n",
       "    .dataframe tbody tr th {\n",
       "        vertical-align: top;\n",
       "    }\n",
       "\n",
       "    .dataframe thead th {\n",
       "        text-align: right;\n",
       "    }\n",
       "</style>\n",
       "<table border=\"1\" class=\"dataframe\">\n",
       "  <thead>\n",
       "    <tr style=\"text-align: right;\">\n",
       "      <th></th>\n",
       "      <th>Quality</th>\n",
       "      <th>SiteId</th>\n",
       "    </tr>\n",
       "  </thead>\n",
       "  <tbody>\n",
       "    <tr>\n",
       "      <th>0</th>\n",
       "      <td>Advanced</td>\n",
       "      <td>198</td>\n",
       "    </tr>\n",
       "    <tr>\n",
       "      <th>1</th>\n",
       "      <td>Premium</td>\n",
       "      <td>191</td>\n",
       "    </tr>\n",
       "    <tr>\n",
       "      <th>2</th>\n",
       "      <td>Universal</td>\n",
       "      <td>150</td>\n",
       "    </tr>\n",
       "  </tbody>\n",
       "</table>\n",
       "</div>"
      ],
      "text/plain": [
       "     Quality  SiteId\n",
       "0   Advanced     198\n",
       "1    Premium     191\n",
       "2  Universal     150"
      ]
     },
     "execution_count": 174,
     "metadata": {
      "tags": []
     },
     "output_type": "execute_result"
    }
   ],
   "source": [
    "scu_location_new.groupby([\"Quality\"])[\"SiteId\"].count().dropna().reset_index().rename({\"SiteId\": \"count\"})"
   ]
  },
  {
   "cell_type": "markdown",
   "metadata": {
    "id": "3XQXNz6WepxZ"
   },
   "source": [
    "Visual above suggests **Premium** and **Advanced** quality have the least median refillment interval out of all qualities. Possible theory behind this is that higher quality product might need less quantity to fulfill need of a certain user and provide a higher satisfaction washroom user experience.\n",
    "\n",
    "We thus propose the marketing strategy to emphasize on **Premium** and **Advanced** products to customers demanding reduced cleaning time. As advanced and premium quality products are priced higher, Tork can, in return, receives a boost in total retail revenue."
   ]
  },
  {
   "cell_type": "markdown",
   "metadata": {
    "id": "T83Q9FM9nClD"
   },
   "source": [
    "# Modeling <a class=\"anchor\" id=\"S3\"></a>"
   ]
  },
  {
   "cell_type": "markdown",
   "metadata": {
    "id": "yRkeQw6au_P7"
   },
   "source": [
    "**1. Problem Formulation**\n",
    "\n",
    "  In the following seciont, we train supervised machine learning models to answer 2 core questions:\n",
    "  1. Regression: For incoming users, what is the optimal number of dispensers per location?\n",
    "  2. Binary Classification: For existing customers, is the current number of dispensers per location sufficient? \n",
    "\n",
    "**2. Analysis Rewind**\n",
    "\n",
    " In the previous section, via visualiztion and statistical analysis, we have gained some insights out of data:\n",
    "  1. **LocationDensity** represents the number of locations under the same **ParentNode**.\n",
    "  2. We calculated daily, hourly **visitor_count** per location.\n",
    "  3. We calculated the interium between 2 consecutive \"red_signal\" for each SCU sensor.\n",
    "  4. Clients adopt a mixed composition of all product types. **Premium** and **Advanced** product has a lower refillment frequency.\n",
    "\n",
    "**3. Modeling Methodology**\n",
    "\n",
    "  We chose **Random Forest** to perform both Regression and Classification analysis, for following reasons:\n",
    "  \n",
    "  1. Random Forest avoids overfitting by synthesizing the output of a bag of decision trees, each trained on only a subset of features. \n",
    "  2. Random Forest performs well on imbalanced dataset. As we only have a small number of locations with insufficient dispensers, this property perfectly meets our needs.\n",
    "  3. Despite some deep learning methods may achieve higher prediction accuracy, Random Forest stands out with its interpretability, generating a quantified feature importance. For a business analytical problem, Random Forest's interpretability helps us unveil which factor has the highest impact on dispenser optimization problem. \n"
   ]
  },
  {
   "cell_type": "markdown",
   "metadata": {
    "id": "Ob8hRZr90jD2"
   },
   "source": [
    "## Prepare Data <a class=\"anchor\" id=\"S3.1\"></a>"
   ]
  },
  {
   "cell_type": "code",
   "execution_count": null,
   "metadata": {
    "id": "UktRIXsPxvpm"
   },
   "outputs": [],
   "source": [
    "# Join site information with traffic data\n",
    "sites_copy = sites[['CustomerId','CountryCode','CreatedAt','UpdatedAt','SubscriptionRate','SubscriptionStart','SiteId']]\n",
    "scu_traffic_site = scu_traffic.merge(sites_copy.rename({'SiteId':'SiteId1'}, axis=1),how='inner', left_on='SiteId', right_on='SiteId1').drop('SiteId1', axis='columns')"
   ]
  },
  {
   "cell_type": "code",
   "execution_count": null,
   "metadata": {
    "colab": {
     "base_uri": "https://localhost:8080/"
    },
    "id": "-y3WTyuGxuOd",
    "outputId": "6dad47a7-bfc3-4e6d-b5f4-8e1807fed5c6"
   },
   "outputs": [
    {
     "data": {
      "text/plain": [
       "DispenserId               0.274583\n",
       "LocationId                0.000000\n",
       "avg_interval              0.389610\n",
       "avg_daily                 0.000000\n",
       "SiteId                    0.000000\n",
       "Quality                   0.000000\n",
       "NotEnoughDispenser        0.000000\n",
       "count                     0.000000\n",
       "locationDensity           0.000000\n",
       "NodeLevel                 0.000000\n",
       "Visitor_Interval_ratio    0.389610\n",
       "FrequentRefill            0.000000\n",
       "CustomerId                0.000000\n",
       "CountryCode               0.000000\n",
       "CreatedAt                 0.000000\n",
       "UpdatedAt                 0.000000\n",
       "SubscriptionRate          0.000000\n",
       "SubscriptionStart         0.000000\n",
       "dtype: float64"
      ]
     },
     "execution_count": 193,
     "metadata": {
      "tags": []
     },
     "output_type": "execute_result"
    }
   ],
   "source": [
    "scu_traffic_site.isna().sum()/len(scu_traffic_site.index)"
   ]
  },
  {
   "cell_type": "markdown",
   "metadata": {
    "id": "s37TNI6j6ZVP"
   },
   "source": [
    "Because not all locations with visitor count from *vru_log* have refillment sensor records from *scu_log*, we thus add 1 additional column **scu_recorded**, 1 as have sensor records, 0 otherwise."
   ]
  },
  {
   "cell_type": "code",
   "execution_count": null,
   "metadata": {
    "colab": {
     "base_uri": "https://localhost:8080/"
    },
    "id": "SzegB6dH13z5",
    "outputId": "17e55460-f468-431a-c14f-0158b751356f"
   },
   "outputs": [
    {
     "data": {
      "text/plain": [
       "1    329\n",
       "0    210\n",
       "Name: scu_recorded, dtype: int64"
      ]
     },
     "execution_count": 194,
     "metadata": {
      "tags": []
     },
     "output_type": "execute_result"
    }
   ],
   "source": [
    "scu_traffic_site['scu_recorded'] = scu_traffic_site.avg_interval.isna().apply(lambda x: 1 if x==0 else 0)\n",
    "scu_traffic_site.scu_recorded.value_counts()"
   ]
  },
  {
   "cell_type": "markdown",
   "metadata": {
    "id": "Mfvk4QYL0h41"
   },
   "source": [
    "We substitued missing values under **avg_interval** and **visitor_interval_ratio** with -1, a value non-existant in available data."
   ]
  },
  {
   "cell_type": "code",
   "execution_count": null,
   "metadata": {
    "id": "AkRT-MRg60mV"
   },
   "outputs": [],
   "source": [
    "scu_traffic_site.avg_interval.fillna(-1, inplace=True)\n",
    "scu_traffic_site.Visitor_Interval_ratio.fillna(-1, inplace=True)\n",
    "\n",
    "scu_traffic_site.avg_interval = scu_traffic_site.avg_interval.replace([np.inf, -np.inf], -1)\n",
    "scu_traffic_site.Visitor_Interval_ratio = scu_traffic_site.Visitor_Interval_ratio.replace([np.inf, -np.inf], -1)"
   ]
  },
  {
   "cell_type": "code",
   "execution_count": null,
   "metadata": {
    "colab": {
     "base_uri": "https://localhost:8080/"
    },
    "id": "TN5aZyir76-x",
    "outputId": "2c4e04eb-4d19-49f0-c618-39658623cace"
   },
   "outputs": [
    {
     "data": {
      "text/plain": [
       "DispenserId               0.077083\n",
       "LocationId                0.000000\n",
       "avg_interval              0.000000\n",
       "avg_daily                 0.000000\n",
       "SiteId                    0.000000\n",
       "Quality                   0.000000\n",
       "NotEnoughDispenser        0.000000\n",
       "count                     0.000000\n",
       "locationDensity           0.000000\n",
       "NodeLevel                 0.000000\n",
       "Visitor_Interval_ratio    0.000000\n",
       "FrequentRefill            0.000000\n",
       "CustomerId                0.000000\n",
       "CountryCode               0.000000\n",
       "CreatedAt                 0.000000\n",
       "UpdatedAt                 0.000000\n",
       "SubscriptionRate          0.000000\n",
       "SubscriptionStart         0.000000\n",
       "scu_recorded              0.000000\n",
       "dtype: float64"
      ]
     },
     "execution_count": 196,
     "metadata": {
      "tags": []
     },
     "output_type": "execute_result"
    }
   ],
   "source": [
    "scu_traffic_site.isna().sum()/len(scu_traffic.index)"
   ]
  },
  {
   "cell_type": "markdown",
   "metadata": {
    "id": "9lFWm-lH1JVM"
   },
   "source": [
    "We drop all features that uniquely identify a site, a location or a sensor."
   ]
  },
  {
   "cell_type": "code",
   "execution_count": null,
   "metadata": {
    "id": "vHxyQwznAso8"
   },
   "outputs": [],
   "source": [
    "scu_traffic_site.drop(['DispenserId','LocationId','SiteId','CustomerId','SubscriptionRate'], axis=1, inplace=True)"
   ]
  },
  {
   "cell_type": "markdown",
   "metadata": {
    "id": "WW9jwbes1Yxv"
   },
   "source": [
    "We transformed all timestamp to days away from the basedate '2020-01-01'. As all entries are collected in the year of 2019, all time relevant data are thus positive."
   ]
  },
  {
   "cell_type": "code",
   "execution_count": null,
   "metadata": {
    "id": "sdWfYW1bFRjx"
   },
   "outputs": [],
   "source": [
    "basedate = pd.Timestamp('2020-01-01 12:00:00', tz='UTC')\n",
    "scu_traffic_site[['CreatedAt','UpdatedAt','SubscriptionStart']] = scu_traffic_site[['CreatedAt','UpdatedAt','SubscriptionStart']].apply(pd.to_datetime)\n",
    "\n",
    "scu_traffic_site.SubscriptionStart = pd.to_datetime(scu_traffic_site.SubscriptionStart)\n",
    "scu_traffic_site.SubscriptionStart = (basedate-scu_traffic_site.SubscriptionStart).dt.days.astype(int)\n",
    "scu_traffic_site.DaysCreated = (basedate-scu_traffic_site.CreatedAt).dt.days.astype(int)\n",
    "scu_traffic_site.DaysUpdated = (basedate-scu_traffic_site.UpdatedAt).dt.days.astype(int)\n",
    "\n",
    "scu_traffic_site.drop(['CreatedAt','UpdatedAt'], axis=1, inplace=True)"
   ]
  },
  {
   "cell_type": "code",
   "execution_count": null,
   "metadata": {
    "id": "SJ1p3pds-LfI"
   },
   "outputs": [],
   "source": [
    "# Transform categorical features to dummies\n",
    "scu_traffic_site[['Quality','CountryCode']] = scu_traffic_site[['Quality','CountryCode']].astype(\"category\")\n",
    "scu_traffic_site = pd.get_dummies(scu_traffic_site, columns=['Quality','CountryCode'])"
   ]
  },
  {
   "cell_type": "markdown",
   "metadata": {
    "id": "Hrt3yWf0WWQI"
   },
   "source": [
    "Below is a list of variables we used:\n",
    "\n",
    "|     Name    \t|     Explanation    \t|     Comment    \t|\n",
    "|-\t|-\t|-\t|\n",
    "| avg_interval | Average refillment request of all dispensers | |\n",
    "| avg_daily| Average number of visitors| |\n",
    "| Quality_... | Dummy variables, product quality level | Premium, Advance, Universal |\n",
    "| locationDensity | Number of child-locations under the parent structure | |\n",
    "| NodeLevel | How deep the structure the location is | |\n",
    "| Visitor_Interval_Ratio | Number of visitors / avg_daily| |\n",
    "|Country_code_... | Dummy variables, sites' country code | |\n",
    "|DaysCreated | Days a subscription has been created since 2020-01-01 | |\n",
    "|DaysUpdated | Days a subscription has been updated since 2020-01-01 | |\n",
    "|SubscriptionStart | Days a subscription has started since 2020-01-01 | |\n",
    "|scu_recorded| number of sensors | |\n",
    "| count | Total number of dispensers | Dependent variable for **Regression**|\n",
    "| NotEnoughDispenser | If number of dispensers are sufficient | 1 insufficient, 0 sufficient|\n",
    "| FrequentRefill | If refillment needs are too frequent | 1 frequent, 0 normal |\n",
    "| NotEnoughDispenser & FrequentRefill | 1 if **either** NotEnoughDispenser **or** FrequentRefill, 0 otherwise | Dependent variable for **Classification**|\n",
    "\n",
    "\n",
    "\n"
   ]
  },
  {
   "cell_type": "code",
   "execution_count": null,
   "metadata": {
    "id": "venH05BCKfwR"
   },
   "outputs": [],
   "source": [
    "# Visualization Helper Function\n",
    "def plot_feature_importance(importance,names,model_type):\n",
    "\n",
    "  feature_import = np.array(importance)\n",
    "  feature_names = np.array(names)\n",
    "  data={'feature_names':feature_names,'feature_importance':feature_import}\n",
    "  df = pd.DataFrame(data)\n",
    "  df.sort_values(by=['feature_importance'], ascending=False,inplace=True)\n",
    "\n",
    "  plt.figure(figsize=(4,8))\n",
    "  sns.barplot(x=df['feature_importance'], y=df['feature_names'])\n",
    "  plt.title(model_type + 'Feature Importance')\n",
    "  plt.xlabel('FEATURE IMPORTANCE')\n",
    "  plt.ylabel('FEATURE NAMES')\n",
    "\n",
    "def plot_confusion_matrix(cm):\n",
    "\n",
    "  title = \"Random Forest Classifier\"\n",
    "  plt.figure(figsize=(6.4, 4.8))\n",
    "  sns.heatmap(cm, annot=True, cmap='viridis')\n",
    "  plt.xlabel('Predicted label')\n",
    "  plt.ylabel('True label')\n",
    "  plt.title(title)\n",
    "  plt.show()\n",
    "  \n",
    "def plot_precision_recall_curve(y_test, lr_recall, lr_precision):\n",
    "\n",
    "  no_skill = len(y_test[y_test==1]) / len(y_test)\n",
    "  plt.plot([0, 1], [no_skill, no_skill], linestyle='--', label='No Skill')\n",
    "  plt.plot(lr_recall, lr_precision, marker='.', label='RF_Classifier')\n",
    "\n",
    "  plt.xlabel('Recall')\n",
    "  plt.ylabel('Precision')\n",
    "  plt.legend()\n",
    "  plt.show()"
   ]
  },
  {
   "cell_type": "markdown",
   "metadata": {
    "id": "iowqeZ0s1rEf"
   },
   "source": [
    "## Regression <a class=\"anchor\" id=\"S3.2\"></a>\n",
    "1. Output: \n",
    "\n",
    "  Random Forest Regressor predicts the number of optimal dispensers per location.\n",
    "2. Data:\n",
    "\n",
    "  The model is trained only on locations with a sufficient number of dispensers, that is, both **FrequentRefill** and **NotEnoughDispenser** are labled as false. This group of data is later names as **scu_traffic_site_enough**.\n",
    "\n",
    "  The model is evaluated on the testing set(30%) from **scu_traffic_site_enough**.\n",
    "\n",
    "  The model is later tested on **scu_traffi_site_not_enough**, suggesting how many additional dispensers these location should install."
   ]
  },
  {
   "cell_type": "markdown",
   "metadata": {
    "id": "qiwgHzitFxiG"
   },
   "source": [
    "Only use locations with sufficient dispensers **and** infrequent refillment needs."
   ]
  },
  {
   "cell_type": "code",
   "execution_count": null,
   "metadata": {
    "id": "Zvc3r7PRFw0B"
   },
   "outputs": [],
   "source": [
    "scu_traffic_site_enough = scu_traffic_site[(scu_traffic_site['FrequentRefill']!=1) &(scu_traffic_site['NotEnoughDispenser']!=1)]\n",
    "scu_traffic_site_not_enough = scu_traffic_site[(scu_traffic_site['FrequentRefill']==1) |(scu_traffic_site['NotEnoughDispenser']==1)]"
   ]
  },
  {
   "cell_type": "code",
   "execution_count": null,
   "metadata": {
    "id": "5gLAxTD9785o"
   },
   "outputs": [],
   "source": [
    "y = scu_traffic_site_enough['count']\n",
    "X = scu_traffic_site_enough.drop('count', axis=1)"
   ]
  },
  {
   "cell_type": "code",
   "execution_count": null,
   "metadata": {
    "colab": {
     "base_uri": "https://localhost:8080/"
    },
    "id": "PrX4zExp-iMm",
    "outputId": "289570f6-43bd-48df-cb2b-bfd218db3727"
   },
   "outputs": [
    {
     "name": "stdout",
     "output_type": "stream",
     "text": [
      "X_train shape is.(329, 14)\n",
      "y_train shape is.(329,)\n",
      "X_test shape is.(142, 14)\n",
      "y_test shape is.(142,)\n"
     ]
    }
   ],
   "source": [
    "# train-test split\n",
    "X_train, X_test, y_train, y_test = train_test_split(X, y, test_size=0.3, random_state=100)\n",
    "\n",
    "print(\"X_train shape is.{}\".format(X_train.shape))\n",
    "print(\"y_train shape is.{}\".format(y_train.shape))\n",
    "print(\"X_test shape is.{}\".format(X_test.shape))\n",
    "print(\"y_test shape is.{}\".format(y_test.shape))"
   ]
  },
  {
   "cell_type": "code",
   "execution_count": null,
   "metadata": {
    "colab": {
     "base_uri": "https://localhost:8080/"
    },
    "id": "s0r5iSgRCFpI",
    "outputId": "273a3071-efc1-44e5-9a07-d04ac757f1f1"
   },
   "outputs": [
    {
     "data": {
      "text/plain": [
       "0.9654586872051069"
      ]
     },
     "execution_count": 235,
     "metadata": {
      "tags": []
     },
     "output_type": "execute_result"
    }
   ],
   "source": [
    "RF_regression = RandomForestRegressor()\n",
    "RF_regression.fit(X_train, y_train)\n",
    "predicted = RF_regression.predict(X_test)\n",
    "RF_regression.score(X_test, y_test)"
   ]
  },
  {
   "cell_type": "code",
   "execution_count": null,
   "metadata": {
    "colab": {
     "base_uri": "https://localhost:8080/"
    },
    "id": "i0UugqkA7gm2",
    "outputId": "48911076-3032-475c-cb26-49724c4c583b"
   },
   "outputs": [
    {
     "data": {
      "text/plain": [
       "0.02468802816901409"
      ]
     },
     "execution_count": 236,
     "metadata": {
      "tags": []
     },
     "output_type": "execute_result"
    }
   ],
   "source": [
    "metrics.mean_squared_error(y_test, predicted)"
   ]
  },
  {
   "cell_type": "code",
   "execution_count": null,
   "metadata": {
    "colab": {
     "base_uri": "https://localhost:8080/",
     "height": 550
    },
    "id": "fyKkPRGqKhx2",
    "outputId": "9b1d4061-cccb-425e-c6af-d4a783dadc18"
   },
   "outputs": [
    {
     "name": "stdout",
     "output_type": "stream",
     "text": [
      "[0.5723036753440258, 0.17885755760234442, 0.15239077361851158, 0.07499962675505069, 0.007401443538562883, 0.00709949597053822, 0.0032556442189034304, 0.0025819790207410537, 0.001109803931321972, 0.0, 0.0, 0.0, 0.0, 0.0]\n"
     ]
    },
    {
     "data": {
      "image/png": "[encoded data removed]",
      "text/plain": [
       "<Figure size 288x576 with 1 Axes>"
      ]
     },
     "metadata": {
      "needs_background": "light",
      "tags": []
     },
     "output_type": "display_data"
    }
   ],
   "source": [
    "plot_feature_importance(RF_regression.feature_importances_, X_train.columns,'Random Forest Regressor')\n",
    "print(sorted(RF_regression.feature_importances_, reverse=True))"
   ]
  },
  {
   "cell_type": "markdown",
   "metadata": {
    "id": "3eNkech_3wAG"
   },
   "source": [
    "#### Model Tuning <a class=\"anchor\" id=\"S3.2.1\"></a>\n",
    "Tune model via randomized cross-validated grid search."
   ]
  },
  {
   "cell_type": "code",
   "execution_count": null,
   "metadata": {
    "colab": {
     "base_uri": "https://localhost:8080/"
    },
    "id": "8kSmCNbxFvN0",
    "outputId": "e1c0f70a-f58b-46b1-f604-2f61c23f7829"
   },
   "outputs": [
    {
     "name": "stdout",
     "output_type": "stream",
     "text": [
      "Fitting 3 folds for each of 144 candidates, totalling 432 fits\n"
     ]
    },
    {
     "name": "stderr",
     "output_type": "stream",
     "text": [
      "[Parallel(n_jobs=-1)]: Using backend LokyBackend with 2 concurrent workers.\n",
      "[Parallel(n_jobs=-1)]: Done  40 tasks      | elapsed:    3.6s\n",
      "[Parallel(n_jobs=-1)]: Done 282 tasks      | elapsed:   16.3s\n",
      "[Parallel(n_jobs=-1)]: Done 432 out of 432 | elapsed:   23.4s finished\n"
     ]
    },
    {
     "data": {
      "text/plain": [
       "GridSearchCV(cv=3, error_score=nan,\n",
       "             estimator=RandomForestRegressor(bootstrap=True, ccp_alpha=0.0,\n",
       "                                             criterion='mse', max_depth=None,\n",
       "                                             max_features='auto',\n",
       "                                             max_leaf_nodes=None,\n",
       "                                             max_samples=None,\n",
       "                                             min_impurity_decrease=0.0,\n",
       "                                             min_impurity_split=None,\n",
       "                                             min_samples_leaf=1,\n",
       "                                             min_samples_split=2,\n",
       "                                             min_weight_fraction_leaf=0.0,\n",
       "                                             n_estimators=100, n_jobs=None,\n",
       "                                             oob_score=False, random_state=None,\n",
       "                                             verbose=0, warm_start=False),\n",
       "             iid='deprecated', n_jobs=-1,\n",
       "             param_grid={'bootstrap': [True, False], 'max_depth': [3, 5, 10],\n",
       "                         'min_samples_leaf': [1, 2, 4],\n",
       "                         'min_samples_split': [2, 5],\n",
       "                         'n_estimators': [10, 20, 50, 100]},\n",
       "             pre_dispatch='2*n_jobs', refit=True, return_train_score=False,\n",
       "             scoring=None, verbose=2)"
      ]
     },
     "execution_count": 239,
     "metadata": {
      "tags": []
     },
     "output_type": "execute_result"
    }
   ],
   "source": [
    "from sklearn.model_selection import GridSearchCV\n",
    "n_estimators = [10, 20, 50, 100]\n",
    "max_depth = [3, 5, 10]\n",
    "min_samples_split = [2, 5]\n",
    "min_samples_leaf = [1, 2, 4]\n",
    "bootstrap = [True, False]\n",
    "# Create the random grid\n",
    "random_grid = {'n_estimators': n_estimators,\n",
    "               'max_depth': max_depth,\n",
    "               'min_samples_split': min_samples_split,\n",
    "               'min_samples_leaf': min_samples_leaf,\n",
    "               'bootstrap': bootstrap}\n",
    "\n",
    "rf = RandomForestRegressor()\n",
    "rf_regressor_tuned = GridSearchCV(estimator = rf, param_grid = random_grid, cv = 3, verbose=2, n_jobs = -1)\n",
    "rf_regressor_tuned.fit(X_train, y_train)"
   ]
  },
  {
   "cell_type": "code",
   "execution_count": null,
   "metadata": {
    "colab": {
     "base_uri": "https://localhost:8080/",
     "height": 513
    },
    "id": "xmRgtqFE9vYV",
    "outputId": "60d5302f-fc2a-436f-89f7-5e8c0ee32306"
   },
   "outputs": [
    {
     "data": {
      "image/png": "[encoded data removed]",
      "text/plain": [
       "<Figure size 288x576 with 1 Axes>"
      ]
     },
     "metadata": {
      "needs_background": "light",
      "tags": []
     },
     "output_type": "display_data"
    }
   ],
   "source": [
    "plot_feature_importance(rf_regressor_tuned.best_estimator_.feature_importances_, X_train.columns, 'Random Forest Regressor Tuned ')"
   ]
  },
  {
   "cell_type": "code",
   "execution_count": null,
   "metadata": {
    "colab": {
     "base_uri": "https://localhost:8080/"
    },
    "id": "Un21e24g5ywx",
    "outputId": "4c894e15-3856-455e-ebd0-09d1254ca3f2"
   },
   "outputs": [
    {
     "name": "stdout",
     "output_type": "stream",
     "text": [
      "Random Forest score 0.9605187280950682\n",
      "Random Forest Accuracy score 0.028218810290313312\n"
     ]
    }
   ],
   "source": [
    "import math\n",
    "predicted = rf_regressor_tuned.predict(X_test)\n",
    "print(\"Random Forest score {}\".format(rf_regressor_tuned.score(X_test, y_test)))\n",
    "print(\"Random Forest Accuracy score {}\".format(metrics.mean_squared_error(y_test, (predicted))))"
   ]
  },
  {
   "cell_type": "markdown",
   "metadata": {
    "id": "7JRJSl_O36Ss"
   },
   "source": [
    "After tuning, Random Forest achieved a $R^2$ 0.960 and testing MSE 0.028.\n",
    "\n",
    "We then evaluated this model on locations with insufficient number of dispensers."
   ]
  },
  {
   "cell_type": "code",
   "execution_count": null,
   "metadata": {
    "id": "_f-oDXJeGsUy"
   },
   "outputs": [],
   "source": [
    "predicted = RF_regression.predict(scu_traffic_site_not_enough.drop(['count'],axis=1))\n",
    "result = pd.DataFrame({'predicted': predicted, 'value':scu_traffic_site_not_enough['count']})\n",
    "result['difference'] = abs(result.predicted-result.value)"
   ]
  },
  {
   "cell_type": "code",
   "execution_count": null,
   "metadata": {
    "colab": {
     "base_uri": "https://localhost:8080/"
    },
    "id": "412iDA8D5T4q",
    "outputId": "66ab2efe-2577-4dc8-d124-5f335f09052d"
   },
   "outputs": [
    {
     "name": "stdout",
     "output_type": "stream",
     "text": [
      "Average number of additional dispensers to be installed 0.20102941176470587\n"
     ]
    }
   ],
   "source": [
    "print(\"Average number of additional dispensers to be installed {}\".format(result.difference.values.mean()))"
   ]
  },
  {
   "cell_type": "markdown",
   "metadata": {
    "id": "fipc3NVj5Zlm"
   },
   "source": [
    "#### Result and Interpretation <a class=\"anchor\" id=\"S3.2.2\"></a>\n",
    "\n",
    "1. After tuning, Random Forest achieved a $R^2$ 0.960 and testing MSE 0.028.\n",
    "\n",
    "\n",
    "2. Despite that the evaluation metrics seem pleasing, this does not suggest we have achieved a perfect model, which may limit the model's generalizability. The training set only has 342 entries. However, if more data were given, following the same data processing steps and modeling techniques, this model can provide liable insights on the number of dispensers to be installed.\n",
    "\n",
    "3. Feature Importance plot suggests, **site capacity, refillment frequency, daily number of visitors** are the top 3 factors to be evaluated when estimating the number of dispensers.\n",
    "\n",
    "3. Testing the model on locations with inadequate number of dispensers, the final result suggests, on average, these locations need additional 0.2 dispensers. That is, 1 additional dispenser is needed for every 5 locations."
   ]
  },
  {
   "cell_type": "markdown",
   "metadata": {
    "id": "VXXQ0dDL4v9I"
   },
   "source": [
    "## Classification\n",
    "1. Output: \n",
    "\n",
    "  If a location has sufficient number of dispensers. 1 for insufficient, 0 otherwise\n",
    "2. Data:\n",
    "\n",
    "  The model is trained on the entire dataset. \n",
    "  \n",
    "  If an entry has either **FrequentRefill** and **NotEnoughDispenser** labled as 1, the entry is labeled as 1. The output lable is stored within **NotSufficient**."
   ]
  },
  {
   "cell_type": "code",
   "execution_count": null,
   "metadata": {
    "id": "ztBm2aW9I8Ku"
   },
   "outputs": [],
   "source": [
    "# Labeling Data\n",
    "scu_traffic_site['NotSufficient'] = scu_traffic_site.NotEnoughDispenser|scu_traffic_site.FrequentRefill\n",
    "\n",
    "X = scu_traffic_site.drop(['NotSufficient', 'NotEnoughDispenser', 'FrequentRefill', 'Visitor_Interval_ratio'],axis=1)\n",
    "y = scu_traffic_site.NotSufficient\n",
    "\n",
    "# train-test split\n",
    "X_train, X_test, y_train, y_test = train_test_split(X, y, test_size=0.3, random_state=100)"
   ]
  },
  {
   "cell_type": "code",
   "execution_count": null,
   "metadata": {
    "colab": {
     "base_uri": "https://localhost:8080/"
    },
    "id": "c1pB1qjf64D3",
    "outputId": "8526a864-6579-46da-e2f9-d7c78a52d9da"
   },
   "outputs": [
    {
     "name": "stdout",
     "output_type": "stream",
     "text": [
      "X_train shape is.(377, 11)\n",
      "y_train shape is.(377,)\n",
      "X_test shape is.(162, 11)\n",
      "y_test shape is.(162,)\n"
     ]
    }
   ],
   "source": [
    "print(\"X_train shape is.{}\".format(X_train.shape))\n",
    "print(\"y_train shape is.{}\".format(y_train.shape))\n",
    "print(\"X_test shape is.{}\".format(X_test.shape))\n",
    "print(\"y_test shape is.{}\".format(y_test.shape))"
   ]
  },
  {
   "cell_type": "code",
   "execution_count": null,
   "metadata": {
    "colab": {
     "base_uri": "https://localhost:8080/"
    },
    "id": "wUhIfJODNehR",
    "outputId": "0acb0fb8-f7ca-4f4a-b1b6-661347cccc58"
   },
   "outputs": [
    {
     "data": {
      "text/plain": [
       "1.0"
      ]
     },
     "execution_count": 214,
     "metadata": {
      "tags": []
     },
     "output_type": "execute_result"
    }
   ],
   "source": [
    "# Train RandomForestClassifier with default parameters\n",
    "RF_classifier = RandomForestClassifier()\n",
    "RF_classifier.fit(X_train, y_train)\n",
    "predicted = RF_classifier.predict(X_test)\n",
    "RF_classifier.score(X_test, y_test)"
   ]
  },
  {
   "cell_type": "code",
   "execution_count": null,
   "metadata": {
    "colab": {
     "base_uri": "https://localhost:8080/",
     "height": 339
    },
    "id": "p3bzkpo-N1mL",
    "outputId": "cdabe3aa-d079-4bc6-ed48-8f3fe74bb264"
   },
   "outputs": [
    {
     "data": {
      "image/png": "[encoded data removed]",
      "text/plain": [
       "<Figure size 460.8x345.6 with 2 Axes>"
      ]
     },
     "metadata": {
      "needs_background": "light",
      "tags": []
     },
     "output_type": "display_data"
    }
   ],
   "source": [
    "cm = metrics.confusion_matrix(y_test, predicted)\n",
    "\n",
    "plot_confusion_matrix(cm)"
   ]
  },
  {
   "cell_type": "code",
   "execution_count": null,
   "metadata": {
    "colab": {
     "base_uri": "https://localhost:8080/",
     "height": 279
    },
    "id": "IG_woTmw_RI9",
    "outputId": "241da043-b8fd-4d9f-e32d-0471ef736b6d"
   },
   "outputs": [
    {
     "data": {
      "image/png": "[encoded data removed]",
      "text/plain": [
       "<Figure size 432x288 with 1 Axes>"
      ]
     },
     "metadata": {
      "needs_background": "light",
      "tags": []
     },
     "output_type": "display_data"
    }
   ],
   "source": [
    "# Calculate precision and recall for each threshold\n",
    "lr_precision, lr_recall, _ = metrics.precision_recall_curve(y_test, RF_classifier.predict_proba(X_test)[:,1])\n",
    "\n",
    "plot_precision_recall_curve(y_test, lr_recall, lr_precision)"
   ]
  },
  {
   "cell_type": "code",
   "execution_count": null,
   "metadata": {
    "colab": {
     "base_uri": "https://localhost:8080/",
     "height": 513
    },
    "id": "VUIwtZ0cNnsm",
    "outputId": "3e8282e5-39af-4bdf-911f-d889f210d074"
   },
   "outputs": [
    {
     "data": {
      "image/png": "[encoded data removed]",
      "text/plain": [
       "<Figure size 288x576 with 1 Axes>"
      ]
     },
     "metadata": {
      "needs_background": "light",
      "tags": []
     },
     "output_type": "display_data"
    }
   ],
   "source": [
    "plot_feature_importance(RF_classifier.feature_importances_, X_train.columns,'Random Forest Classifier ')"
   ]
  },
  {
   "cell_type": "markdown",
   "metadata": {
    "id": "Ak3bDSNQAeWj"
   },
   "source": [
    "#### Result and Interpretation <a class=\"anchor\" id=\"S3.3\"></a>\n",
    "\n",
    "1. We achieved a Random Forest Classifier with 0 False Positive and 0 False Negative, resulting in 100% accuracy and 100% F-1 score. \n",
    "\n",
    "2. As the dataset is highly imbalanced, we further evaluated the model using prediction-recall curve, which still outputs a 1 AUC, implying perfect classification.\n",
    "\n",
    "3. Again, despite the evaluation metrics seem pleasing, this model is trained on a limited amount of data. Model generalibility can be improved if more data were given.\n",
    "\n",
    "4. Feature Importance plot suggests, **daily number of visitors, refillment frequency and the number of SCU sensors** are the top 3 factors to be evaluated when estimating the number of dispensers.\n"
   ]
  },
  {
   "cell_type": "markdown",
   "metadata": {
    "id": "yCi0FNDqRixI"
   },
   "source": [
    "# Limitation <a class=\"anchor\" id=\"S6\"></a>\n",
    "\n",
    "Upon completing our model implementation and interpretation, we found several points across our board that limit the model performance. This limitation might come from the current data set, but this also gives us insight into where we can focus in our next step to improve our analysis.\n",
    "\n",
    "First of all, we have a small size data set about people flow traffic data from sensors across all sites. The size mainly decreases the generality of our model in applying to more sites. If more people flow data and dispenser information are collected, we can avoid overfitting and make our model more versatile to all future clients.\n",
    "\n",
    "Secondly, our site focuses on the relationship between refill frequency, dispenser density, and people flow of each site and location. If we could have access to more data, we would able to build a model more comprehensively. For example, if each site's business type is provided, we could have a sense of users' expectation, seasonal trend, age span of users, etc. All those information will help us predict the need and allocation of dispensers in those sites by providing the best services and least mandatory maintenance in those locations.\n",
    "\n",
    "Thirdly, we could have more detailed information for higher accuracy and model robustness concerning the dispenser. Suppose we could get an understanding of the dispenser's existing floor. In that case, location, restroom type, and model will produce a more reliable accuracy in both the regression and classification model to deliver results to Tork's clients in optimizing and arranging cleaning staff.\n",
    "\n",
    "We met all those limitations during our process, but it undoubtedly strengthens our belief in our model could help Tork's provide a better plan for clients and attract more business interest from the market."
   ]
  },
  {
   "cell_type": "markdown",
   "metadata": {
    "id": "3NHOZFz_wy5F"
   },
   "source": [
    "# Conclusions <a class=\"anchor\" id=\"S4\"></a>\n",
    "\n",
    "From our model, our goal is to help Tork boost bottom-line revenue by finding potential upsell from current clients and adaptively generating optimal plans for new clients. \\\\\n",
    "\n",
    "We use a classification method for the current customer, trained on traffic flow data, dispenser data, to generate a supervised classification model that predicts if current dispenser allocation is adequate. This method will save customer cleaning costs and maintain a higher standard in the restroom environment. \\\\\n",
    "\n",
    "For new clients, we use the existing restroom (dispenser) location data and traffic data to generate a supervised Regression model that predicts the optimal number of dispensers that can provide efficient services in those sites/locations. This approach can help the potential client estimate the cost saved using Tork's intelligent cleaning system services. \\\\\n",
    "\n",
    "Both two sub-scenario can be improved if more detailed business data are provided, like the business type of sites, age span of users, seasonal weather, and activities in those sites. More features and data will enhance the robustness of classification and regression models and improve the accuracy in delivering reliable plans for Tork's customers. \\\\\n",
    "\n",
    "From both scenarios mentioned above, our models could boost sales, increase Tork revenue, and subsequently promote subscriptions from current customers and future customers. "
   ]
  },
  {
   "cell_type": "markdown",
   "metadata": {
    "id": "PjKwG2ZuAkb0"
   },
   "source": [
    "# Next Steps <a class=\"anchor\" id=\"S5\"></a>\n",
    "\n",
    "One problem with the data is that our criteria for labeling if a location has enough dispensers do not lead to a low number of minor classes, implying an imbalanced dataset. If given more time, to boost model robustness, a re-sampling of the class samples may be adopted. \n",
    "\n",
    "Secondly, we can establish more detailed criteria to classify dispenser sufficiency if more qualitative data, such as users' feedback and business type, were given. \n",
    "\n",
    "Besides, alternative modeling algorithms, such as XGBoost, Long-Short Term Memory for handling time series data (in this case, the refill signal and people flow counter), may produce a more accurate result than Random Forest. \n",
    "\n",
    "Finally, gaining more information data about the site and its business type will also improve the model performance and generate a more comprehensive analytical insight. A potential solution to enhance prediction accuracy is to train independent models based on a site's business type."
   ]
  }
 ],
 "metadata": {
  "colab": {
   "collapsed_sections": [],
   "name": "Data Dispenser Optimization.ipynb",
   "provenance": []
  },
  "kernelspec": {
   "display_name": "Python 3",
   "language": "python",
   "name": "python3"
  },
  "language_info": {
   "codemirror_mode": {
    "name": "ipython",
    "version": 3
   },
   "file_extension": ".py",
   "mimetype": "text/x-python",
   "name": "python",
   "nbconvert_exporter": "python",
   "pygments_lexer": "ipython3",
   "version": "3.8.3"
  }
 },
 "nbformat": 4,
 "nbformat_minor": 1
}
